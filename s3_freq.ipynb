{
 "metadata": {
  "language_info": {
   "codemirror_mode": {
    "name": "ipython",
    "version": 3
   },
   "file_extension": ".py",
   "mimetype": "text/x-python",
   "name": "python",
   "nbconvert_exporter": "python",
   "pygments_lexer": "ipython3",
   "version": "3.7.3-final"
  },
  "orig_nbformat": 2,
  "kernelspec": {
   "name": "python3",
   "display_name": "Python 3.7.3 64-bit ('venv': venv)",
   "metadata": {
    "interpreter": {
     "hash": "b2a5f694a66877281438acd7b293fef16a443d62b15e50432f9ed3df30ea4071"
    }
   }
  }
 },
 "nbformat": 4,
 "nbformat_minor": 2,
 "cells": [
  {
   "source": [
    "# Analyse frequency distribution of words"
   ],
   "cell_type": "markdown",
   "metadata": {}
  },
  {
   "source": [
    "## Installation des dépendences"
   ],
   "cell_type": "markdown",
   "metadata": {}
  },
  {
   "cell_type": "code",
   "execution_count": 8,
   "metadata": {
    "tags": []
   },
   "outputs": [
    {
     "output_type": "stream",
     "name": "stderr",
     "text": [
      "[nltk_data] Downloading package stopwords to\n[nltk_data]     C:\\Users\\Lidia\\AppData\\Roaming\\nltk_data...\n[nltk_data]   Package stopwords is already up-to-date!\n"
     ]
    },
    {
     "output_type": "execute_result",
     "data": {
      "text/plain": [
       "True"
      ]
     },
     "metadata": {},
     "execution_count": 8
    }
   ],
   "source": [
    "import nltk\n",
    "\n",
    "nltk.download('stopwords')"
   ]
  },
  {
   "source": [
    "## Création d'une liste de stopwords"
   ],
   "cell_type": "markdown",
   "metadata": {}
  },
  {
   "cell_type": "code",
   "execution_count": 9,
   "metadata": {
    "tags": []
   },
   "outputs": [],
   "source": [
    "from nltk.corpus import stopwords\n",
    "\n",
    "sw = stopwords.words(\"french\")\n",
    "sw += [\"les\", \"plus\", \"cette\", \"fait\", \"faire\", \"être\", \"deux\", \"comme\", \"dont\", \"tout\",\n",
    "       \"ils\", \"bien\", \"sans\", \"peut\", \"tous\", \"après\", \"ainsi\", \"donc\", \"cet\", \"sous\",\n",
    "       \"celle\", \"entre\", \"encore\", \"toutes\", \"pendant\", \"moins\", \"dire\", \"cela\", \"non\",\n",
    "       \"faut\", \"trois\", \"aussi\", \"dit\", \"avoir\", \"doit\", \"contre\", \"depuis\", \"autres\",\n",
    "       \"van\", \"het\", \"autre\", \"jusqu\", \"conseil\", \"aucun\", \"doivent\",\n",
    "       \"nouvelle\", \"mois\", \"sieur\", \"très\", \"déja\", \"quatre\", \"cause\", \"agit\", \"grand\", \"également\", \"avant\", \"part\", \"donné\",\n",
    "       \"car\", \"quant\", \"parce\", \"alors\", \"moyen\", \"faite\", \"Leurs\", \"seulement\", \"dernier\", \"laquelle\", \"aucune\", \"aujourd'hui\",\n",
    "       \"ans\", \"nombre\", \"première\", \"plusieurs\", \"suite\", \"celles\", \"elles\", \"quand\", \"jour\", \"établi\", \"établi\", \"peu\",\n",
    "       \"ancien\", \"proposé\", \"peuvent\", \"seule\", \"toute\", \"beaucoup\",\"sen\",\"environ\",\"temp\", \"avant\",\"parce\",\"tion\",\"pui\",\"dis\",\n",
    "       \"elles\",\"trouve\",\"ensuite\",\"immédiatement\", \"tel\",\"souvent\",\"sujet\",\"voilà\",\"car\",\"longtemps\",\"sorte\",\n",
    "       \"croi\",\"outre\",\"ment\",\"cependant\",\"quant\",\"égard\",\"plusieur\", \"émis\",\"toutefoi\",\"faite\",\"toujour\",\"pourquoi\",\"demandé\",\"parle\",\n",
    "       \"agit\",\"enfin\",\"surtout\",\"sai\",\"notamment\", \"dès lors\",\"doute\",\"abord\",\"déjà\",\"reste\",\"possible\",\"établi\",\"a\",\"b\",\"c\",\"d\",\"e\",\"f\",\"g\",      \"h\",\"i\",\"j\",\"k\",\"l\",\"m\",\"n\",\"o\",\"p\",\"q\",\"r\",\"s\",\"t\",\"u\",\"v\",\"w\",\"x\",\"y\",\"z\",\"de\",\"dl\",\"du\",\"des\",\"conseil\",\"année\",\"bulletin\",\"1\",\"2\",\"3\",\"4\",\"5\",\"6\",\"7\",\"8\",\"9\",\"'\",\";\",\":\",\"!\",\"?\",\".\",\"^\",\"*\",\"8éanas\",\"communal\",\"1847\",\"au\",\"aès\",\"84\",\"consei\",\"dîbï\",\"la\",\"pour\",\"les\",\"el\",\"marchai\",\"il\",\"est\",\"leurs\",\"leur\",\"elle\",\"fa\",\"gnant\",\"bn\",\"par\",\"dtput\",\"espourvica\",\"35\",\"uf\",\"dan\",\"même\",\"un\",\"lle5la\",\"ed\",\"lém\",\"fai\",\"phonnenr\",\"to\",\"rèumisderb\",\"sans\",\"fe\",\"soit\",\"dow\",\"iraocs\"]\n",
    "sw = set(sw)"
   ]
  },
  {
   "cell_type": "code",
   "execution_count": 3,
   "metadata": {},
   "outputs": [
    {
     "output_type": "stream",
     "name": "stdout",
     "text": [
      "279 stopwords used: ['Leurs', 'abord', 'agit', 'ai', 'aie', 'aient', 'aies', 'ainsi', 'ait', 'alors', 'ancien', 'ans', 'après', 'as', 'au', 'aucun', 'aucune', \"aujourd'hui\", 'aura', 'aurai', 'auraient', 'aurais', 'aurait', 'auras', 'aurez', 'auriez', 'aurions', 'aurons', 'auront', 'aussi', 'autre', 'autres', 'aux', 'avaient', 'avais', 'avait', 'avant', 'avec', 'avez', 'aviez', 'avions', 'avoir', 'avons', 'ayant', 'ayante', 'ayantes', 'ayants', 'ayez', 'ayons', 'beaucoup', 'bien', 'c', 'car', 'cause', 'ce', 'cela', 'celle', 'celles', 'cependant', 'ces', 'cet', 'cette', 'comme', 'conseil', 'contre', 'croi', 'd', 'dans', 'de', 'demandé', 'depuis', 'dernier', 'des', 'deux', 'dire', 'dis', 'dit', 'doit', 'doivent', 'donc', 'donné', 'dont', 'doute', 'du', 'dès lors', 'déja', 'déjà', 'elle', 'elles', 'en', 'encore', 'enfin', 'ensuite', 'entre', 'environ', 'es', 'est', 'et', 'eu', 'eue', 'eues', 'eurent', 'eus', 'eusse', 'eussent', 'eusses', 'eussiez', 'eussions', 'eut', 'eux', 'eûmes', 'eût', 'eûtes', 'faire', 'fait', 'faite', 'faut', 'furent', 'fus', 'fusse', 'fussent', 'fusses', 'fussiez', 'fussions', 'fut', 'fûmes', 'fût', 'fûtes', 'grand', 'het', 'il', 'ils', 'immédiatement', 'j', 'je', 'jour', 'jusqu', 'l', 'la', 'laquelle', 'le', 'les', 'leur', 'longtemps', 'lui', 'm', 'ma', 'mais', 'me', 'ment', 'mes', 'moi', 'moins', 'mois', 'mon', 'moyen', 'même', 'n', 'ne', 'nombre', 'non', 'nos', 'notamment', 'notre', 'nous', 'nouvelle', 'on', 'ont', 'ou', 'outre', 'par', 'parce', 'parle', 'part', 'pas', 'pendant', 'peu', 'peut', 'peuvent', 'plus', 'plusieur', 'plusieurs', 'possible', 'pour', 'pourquoi', 'première', 'proposé', 'pui', 'qu', 'quand', 'quant', 'quatre', 'que', 'qui', 'reste', 's', 'sa', 'sai', 'sans', 'se', 'sen', 'sera', 'serai', 'seraient', 'serais', 'serait', 'seras', 'serez', 'seriez', 'serions', 'serons', 'seront', 'ses', 'seule', 'seulement', 'sieur', 'soient', 'sois', 'soit', 'sommes', 'son', 'sont', 'sorte', 'sous', 'souvent', 'soyez', 'soyons', 'suis', 'suite', 'sujet', 'sur', 'surtout', 't', 'ta', 'te', 'tel', 'temp', 'tes', 'tion', 'toi', 'ton', 'toujour', 'tous', 'tout', 'toute', 'toutefoi', 'toutes', 'trois', 'trouve', 'très', 'tu', 'un', 'une', 'van', 'voilà', 'vos', 'votre', 'vous', 'y', 'à', 'également', 'égard', 'émis', 'établi', 'étaient', 'étais', 'était', 'étant', 'étante', 'étantes', 'étants', 'étiez', 'étions', 'été', 'étée', 'étées', 'étés', 'êtes', 'être']\n"
     ]
    }
   ],
   "source": [
    "print(f\"{len(sw)} stopwords used: {sorted(sw)}\")"
   ]
  },
  {
   "source": [
    "## Visualiser les termes les plus fréquents"
   ],
   "cell_type": "markdown",
   "metadata": {}
  },
  {
   "cell_type": "code",
   "execution_count": 10,
   "metadata": {
    "tags": []
   },
   "outputs": [],
   "source": [
    "path = \"../data/all.txt\"\n",
    "limit = 1000**8\n",
    "\n",
    "with open(path, encoding='utf-8') as f:\n",
    "    text = f.read()[:limit]"
   ]
  },
  {
   "cell_type": "code",
   "execution_count": 11,
   "metadata": {},
   "outputs": [
    {
     "output_type": "stream",
     "name": "stdout",
     "text": [
      "113943418 words found\n"
     ]
    }
   ],
   "source": [
    "# détecter les mots\n",
    "words = nltk.wordpunct_tokenize(text)\n",
    "print(f\"{len(words)} words found\")"
   ]
  },
  {
   "cell_type": "code",
   "execution_count": 13,
   "metadata": {},
   "outputs": [
    {
     "output_type": "execute_result",
     "data": {
      "text/plain": [
       "['V',\n",
       " 'I',\n",
       " 'L',\n",
       " 'L',\n",
       " 'E',\n",
       " 'DE',\n",
       " 'BRUXELLES',\n",
       " 'bulletin',\n",
       " 'ires',\n",
       " '8éanas',\n",
       " 'Dl',\n",
       " '!',\n",
       " 'CONSEIL',\n",
       " 'COMMUNAL',\n",
       " 'ANNÉE',\n",
       " '1847',\n",
       " '.',\n",
       " 'AU',\n",
       " 'VILLE',\n",
       " 'DE',\n",
       " 'B',\n",
       " 'R',\n",
       " 'U',\n",
       " 'X',\n",
       " 'E',\n",
       " 'L',\n",
       " 'L',\n",
       " 'E',\n",
       " 'S',\n",
       " '.',\n",
       " 'bulletin',\n",
       " 'CONSEIL',\n",
       " 'àes',\n",
       " 'Séances',\n",
       " 'COMMUNAL',\n",
       " '.',\n",
       " 'ANNÉE',\n",
       " '1847',\n",
       " '.',\n",
       " 'BRUXELLES',\n",
       " ',',\n",
       " 'IMPRIMERIE',\n",
       " 'D',\n",
       " 'E',\n",
       " 'J',\n",
       " '.',\n",
       " 'H',\n",
       " '.',\n",
       " 'B',\n",
       " 'R',\n",
       " 'I',\n",
       " 'A',\n",
       " 'R',\n",
       " 'D',\n",
       " ',',\n",
       " 'RITE',\n",
       " 'N',\n",
       " 'E',\n",
       " 'U',\n",
       " 'V',\n",
       " 'E',\n",
       " ',',\n",
       " '3',\n",
       " '1',\n",
       " ',',\n",
       " 'FAUBOURG',\n",
       " 'DE',\n",
       " 'N',\n",
       " 'A',\n",
       " 'M',\n",
       " 'U',\n",
       " 'R',\n",
       " ',',\n",
       " '1',\n",
       " '84',\n",
       " '8',\n",
       " 'DE',\n",
       " '!',\n",
       " 'DU',\n",
       " 'CONSEI',\n",
       " 'DîBÏ',\n",
       " 'E',\n",
       " '.',\n",
       " '-',\n",
       " 'Communication',\n",
       " 'conclusions',\n",
       " 'de',\n",
       " 'la',\n",
       " 'section',\n",
       " 'des',\n",
       " 'du',\n",
       " 'nouvel',\n",
       " 'hospice',\n",
       " 'pour',\n",
       " 'les',\n",
       " 'av',\n",
       " 'Enraisonde',\n",
       " 'l',\n",
       " \"'\",\n",
       " 'absence',\n",
       " '&',\n",
       " 'maladie',\n",
       " '.',\n",
       " 'le',\n",
       " 'Conseil',\n",
       " 'ajourne',\n",
       " 'leurs',\n",
       " 'de',\n",
       " 'pierre',\n",
       " 'el',\n",
       " 'marchai',\n",
       " 'cles',\n",
       " 'des',\n",
       " 'taxes',\n",
       " 'communale',\n",
       " \"'\",\n",
       " 'bieniàance',\n",
       " 'eldeseiànV',\n",
       " 'Il',\n",
       " 'est',\n",
       " 'donne',\n",
       " 'communie',\n",
       " ';',\n",
       " 'mandant',\n",
       " 'le',\n",
       " 'o',\n",
       " 'p',\n",
       " 'fa',\n",
       " 'gnant',\n",
       " 'l',\n",
       " \"'\",\n",
       " 'envoi',\n",
       " 'de',\n",
       " 'leur',\n",
       " 'bn',\n",
       " 'par',\n",
       " 'l',\n",
       " \"'\",\n",
       " 'Etat',\n",
       " 'obligatoire',\n",
       " 'p',\n",
       " 'secrétariat',\n",
       " 'et',\n",
       " 'dtput',\n",
       " 'uf',\n",
       " 'proposition',\n",
       " 'dan',\n",
       " '*',\n",
       " 'le',\n",
       " 'même',\n",
       " 'U',\n",
       " 'est',\n",
       " 'donné',\n",
       " 'lecture',\n",
       " 'd',\n",
       " \"'\",\n",
       " 't',\n",
       " 'Glissement',\n",
       " 'd',\n",
       " \"'\",\n",
       " 'un',\n",
       " 'marc',\n",
       " '!',\n",
       " \"'•\",\n",
       " 'royales',\n",
       " ',',\n",
       " 'rue',\n",
       " 'de',\n",
       " 'la',\n",
       " 'I',\n",
       " 'd',\n",
       " 'e',\n",
       " 'k',\n",
       " ':',\n",
       " ';',\n",
       " 'I',\n",
       " 'fai',\n",
       " 'Phonnenr',\n",
       " 'de',\n",
       " 'to',\n",
       " '»',\n",
       " '«',\n",
       " '«',\n",
       " 'terrains',\n",
       " 'rèumsderb',\n",
       " '.\"',\n",
       " '^',\n",
       " 'Par',\n",
       " 'une',\n",
       " 'combinaison',\n",
       " 'f',\n",
       " 'sans',\n",
       " 'devoir',\n",
       " 'fe',\n",
       " 'soit',\n",
       " 'DOW',\n",
       " 'ans',\n",
       " ',',\n",
       " 'un',\n",
       " 'marcs',\n",
       " '1',\n",
       " 's',\n",
       " 'u',\n",
       " 'r',\n",
       " 'l',\n",
       " 'iraocs',\n",
       " '.',\n",
       " '^',\n",
       " 'W',\n",
       " 'mètres',\n",
       " 'sur',\n",
       " '35',\n",
       " 'L',\n",
       " ';',\n",
       " 'n',\n",
       " '^',\n",
       " 'espourVica',\n",
       " '.',\n",
       " 'lém',\n",
       " 'ed',\n",
       " '«',\n",
       " 'l',\n",
       " 't',\n",
       " 'a',\n",
       " 'r',\n",
       " '««',\n",
       " 'lle5la',\n",
       " '«',\n",
       " 'COMPTE',\n",
       " 'DES',\n",
       " 'DU',\n",
       " 'CONSEIL',\n",
       " 'DE',\n",
       " 'RENDU',\n",
       " 'SÉANCES',\n",
       " 'COMMUNAL',\n",
       " 'BRUXELLES',\n",
       " '.',\n",
       " 'Séance',\n",
       " 'du',\n",
       " '9',\n",
       " 'janvier',\n",
       " '.',\n",
       " '(',\n",
       " 'Présidence',\n",
       " 'de',\n",
       " 'M',\n",
       " '.',\n",
       " 'le',\n",
       " 'chevalier',\n",
       " 'W',\n",
       " 'Y',\n",
       " 'N',\n",
       " 'S',\n",
       " 'DE',\n",
       " 'RAUCOURT',\n",
       " ',',\n",
       " 'bourgmestre',\n",
       " '.)',\n",
       " 'SOMMAIRE',\n",
       " '.',\n",
       " '—',\n",
       " 'Communication',\n",
       " 'de',\n",
       " 'pièces',\n",
       " '.',\n",
       " '—',\n",
       " 'Discussion',\n",
       " 'et',\n",
       " 'adoption',\n",
       " 'des',\n",
       " 'conclusions',\n",
       " 'de',\n",
       " 'la',\n",
       " 'section',\n",
       " 'des',\n",
       " 'travaux',\n",
       " 'publics',\n",
       " 'relatives',\n",
       " 'à',\n",
       " 'l',\n",
       " \"'\",\n",
       " 'emplacement',\n",
       " 'du',\n",
       " 'nouvel',\n",
       " 'hospice',\n",
       " 'pour',\n",
       " 'les',\n",
       " 'aveugles',\n",
       " 'indigents',\n",
       " '.',\n",
       " 'En',\n",
       " 'raison',\n",
       " 'de',\n",
       " 'l',\n",
       " \"'\",\n",
       " 'absence',\n",
       " 'de',\n",
       " 'M',\n",
       " '.']"
      ]
     },
     "metadata": {},
     "execution_count": 13
    }
   ],
   "source": [
    "words[:300]"
   ]
  },
  {
   "cell_type": "code",
   "execution_count": 14,
   "metadata": {},
   "outputs": [
    {
     "output_type": "stream",
     "name": "stdout",
     "text": [
      "27104658 words kept (425259 different word forms)\n"
     ]
    }
   ],
   "source": [
    "kept = [w.lower() for w in words if len(w) > 2 and w.isalpha() and w.lower() not in sw]\n",
    "voc = set(kept)\n",
    "print(f\"{len(kept)} words kept ({len(voc)} different word forms)\")"
   ]
  },
  {
   "cell_type": "code",
   "execution_count": 16,
   "metadata": {},
   "outputs": [
    {
     "output_type": "execute_result",
     "data": {
      "text/plain": [
       "[('rue', 199671),\n",
       " ('francs', 190769),\n",
       " ('ville', 141681),\n",
       " ('collège', 125306),\n",
       " ('bruxelles', 118817),\n",
       " ('bourgmestre', 105885),\n",
       " ('travaux', 95804),\n",
       " ('art', 93775),\n",
       " ('service', 92348),\n",
       " ('budget', 83306),\n",
       " ('publique', 81324),\n",
       " ('echevin', 73175),\n",
       " ('question', 68176),\n",
       " ('frais', 68126),\n",
       " ('section', 67623),\n",
       " ('dépenses', 66754),\n",
       " ('compte', 64482),\n",
       " ('administration', 63261),\n",
       " ('messieurs', 62376),\n",
       " ('cours', 57767),\n",
       " ('article', 56769),\n",
       " ('avis', 56277),\n",
       " ('recettes', 56232),\n",
       " ('rapport', 55374),\n",
       " ('demande', 54025),\n",
       " ('personnel', 50805),\n",
       " ('prix', 47637),\n",
       " ('membres', 47091),\n",
       " ('total', 46946),\n",
       " ('place', 46821),\n",
       " ('commission', 45965),\n",
       " ('dépense', 45896),\n",
       " ('séance', 44864),\n",
       " ('saint', 44408),\n",
       " ('lieu', 44299),\n",
       " ('enfants', 43725),\n",
       " ('police', 43362),\n",
       " ('décembre', 42270),\n",
       " ('école', 41801),\n",
       " ('partie', 41674),\n",
       " ('exercice', 41375),\n",
       " ('entretien', 41245),\n",
       " ('loi', 41146),\n",
       " ('proposition', 40527),\n",
       " ('somme', 39889),\n",
       " ('société', 39171),\n",
       " ('projet', 38722),\n",
       " ('heures', 38204),\n",
       " ('cas', 38000),\n",
       " ('een', 37080),\n",
       " ('voor', 36367),\n",
       " ('communale', 35519),\n",
       " ('ecole', 35469),\n",
       " ('hospices', 35462),\n",
       " ('crédit', 35384),\n",
       " ('octobre', 34468),\n",
       " ('etat', 34399),\n",
       " ('droit', 34272),\n",
       " ('etc', 34066),\n",
       " ('favorable', 34051),\n",
       " ('taxe', 33748),\n",
       " ('point', 33617),\n",
       " ('vue', 33418),\n",
       " ('approbation', 33064),\n",
       " ('mars', 32903),\n",
       " ('honneur', 32704),\n",
       " ('assistance', 32530),\n",
       " ('écoles', 32358),\n",
       " ('divers', 32108),\n",
       " ('ordre', 32062),\n",
       " ('construction', 31699),\n",
       " ('situation', 31575),\n",
       " ('commune', 31031),\n",
       " ('avenue', 29722),\n",
       " ('enseignement', 29633),\n",
       " ('intervention', 29454),\n",
       " ('règlement', 29063),\n",
       " ('état', 28649),\n",
       " ('services', 28525),\n",
       " ('ceux', 28482),\n",
       " ('vente', 28377),\n",
       " ('terrain', 28349),\n",
       " ('vote', 28310),\n",
       " ('quartier', 28276),\n",
       " ('janvier', 28274),\n",
       " ('voir', 28219),\n",
       " ('subside', 28008),\n",
       " ('monsieur', 27989),\n",
       " ('finances', 27833),\n",
       " ('crois', 27816),\n",
       " ('celui', 27604),\n",
       " ('juillet', 27464),\n",
       " ('publics', 27457),\n",
       " ('charges', 27404),\n",
       " ('communes', 27334),\n",
       " ('gaz', 27296),\n",
       " ('général', 26857),\n",
       " ('conditions', 26850),\n",
       " ('église', 26810),\n",
       " ('fonds', 26697)]"
      ]
     },
     "metadata": {},
     "execution_count": 16
    }
   ],
   "source": [
    "fdist = nltk.FreqDist(kept)\n",
    "fdist.most_common(100)"
   ]
  },
  {
   "cell_type": "code",
   "execution_count": 17,
   "metadata": {
    "tags": []
   },
   "outputs": [
    {
     "output_type": "error",
     "ename": "ValueError",
     "evalue": "The plot function requires matplotlib to be installed.See http://matplotlib.org/",
     "traceback": [
      "\u001b[1;31m---------------------------------------------------------------------------\u001b[0m",
      "\u001b[1;31mModuleNotFoundError\u001b[0m                       Traceback (most recent call last)",
      "\u001b[1;32mc:\\Users\\Lidia\\Desktop\\tac\\venv\\lib\\site-packages\\nltk\\probability.py\u001b[0m in \u001b[0;36mplot\u001b[1;34m(self, *args, **kwargs)\u001b[0m\n\u001b[0;32m    262\u001b[0m         \u001b[1;32mtry\u001b[0m\u001b[1;33m:\u001b[0m\u001b[1;33m\u001b[0m\u001b[1;33m\u001b[0m\u001b[0m\n\u001b[1;32m--> 263\u001b[1;33m             \u001b[1;32mimport\u001b[0m \u001b[0mmatplotlib\u001b[0m\u001b[1;33m.\u001b[0m\u001b[0mpyplot\u001b[0m \u001b[1;32mas\u001b[0m \u001b[0mplt\u001b[0m\u001b[1;33m\u001b[0m\u001b[1;33m\u001b[0m\u001b[0m\n\u001b[0m\u001b[0;32m    264\u001b[0m         \u001b[1;32mexcept\u001b[0m \u001b[0mImportError\u001b[0m\u001b[1;33m:\u001b[0m\u001b[1;33m\u001b[0m\u001b[1;33m\u001b[0m\u001b[0m\n",
      "\u001b[1;31mModuleNotFoundError\u001b[0m: No module named 'matplotlib'",
      "\nDuring handling of the above exception, another exception occurred:\n",
      "\u001b[1;31mValueError\u001b[0m                                Traceback (most recent call last)",
      "\u001b[1;32m<ipython-input-17-b3807ba1b31a>\u001b[0m in \u001b[0;36m<module>\u001b[1;34m\u001b[0m\n\u001b[1;32m----> 1\u001b[1;33m \u001b[0mfdist\u001b[0m\u001b[1;33m.\u001b[0m\u001b[0mplot\u001b[0m\u001b[1;33m(\u001b[0m\u001b[1;36m50\u001b[0m\u001b[1;33m,\u001b[0m \u001b[0mcumulative\u001b[0m\u001b[1;33m=\u001b[0m\u001b[1;32mTrue\u001b[0m\u001b[1;33m)\u001b[0m\u001b[1;33m\u001b[0m\u001b[1;33m\u001b[0m\u001b[0m\n\u001b[0m",
      "\u001b[1;32mc:\\Users\\Lidia\\Desktop\\tac\\venv\\lib\\site-packages\\nltk\\probability.py\u001b[0m in \u001b[0;36mplot\u001b[1;34m(self, *args, **kwargs)\u001b[0m\n\u001b[0;32m    264\u001b[0m         \u001b[1;32mexcept\u001b[0m \u001b[0mImportError\u001b[0m\u001b[1;33m:\u001b[0m\u001b[1;33m\u001b[0m\u001b[1;33m\u001b[0m\u001b[0m\n\u001b[0;32m    265\u001b[0m             raise ValueError(\n\u001b[1;32m--> 266\u001b[1;33m                 \u001b[1;34m\"The plot function requires matplotlib to be installed.\"\u001b[0m\u001b[1;33m\u001b[0m\u001b[1;33m\u001b[0m\u001b[0m\n\u001b[0m\u001b[0;32m    267\u001b[0m                 \u001b[1;34m\"See http://matplotlib.org/\"\u001b[0m\u001b[1;33m\u001b[0m\u001b[1;33m\u001b[0m\u001b[0m\n\u001b[0;32m    268\u001b[0m             )\n",
      "\u001b[1;31mValueError\u001b[0m: The plot function requires matplotlib to be installed.See http://matplotlib.org/"
     ]
    }
   ],
   "source": [
    "fdist.plot(50, cumulative=True)"
   ]
  },
  {
   "cell_type": "code",
   "execution_count": 18,
   "metadata": {},
   "outputs": [
    {
     "output_type": "execute_result",
     "data": {
      "text/plain": [
       "['enraisonde',\n",
       " 'bieniàance',\n",
       " 'eldeseiànv',\n",
       " 'rèumsderb',\n",
       " 'imrac',\n",
       " 'offrantà',\n",
       " 'philanlropique',\n",
       " 'advînt',\n",
       " 'cemtimes',\n",
       " 'noretnbre',\n",
       " 'lichtendael',\n",
       " 'propriétéestaujourd',\n",
       " 'huiquitle',\n",
       " 'çenè',\n",
       " 'phospiee',\n",
       " 'mnll',\n",
       " 'parferez',\n",
       " 'portéeà',\n",
       " 'préférenee',\n",
       " 'commel',\n",
       " 'gav',\n",
       " 'reinboursement',\n",
       " 'autorisantl',\n",
       " 'trèsfacilement',\n",
       " 'qucnce',\n",
       " 'temens',\n",
       " 'reduits',\n",
       " 'ireespèceetdépen',\n",
       " 'rndminislralion',\n",
       " 'économisa']"
      ]
     },
     "metadata": {},
     "execution_count": 18
    }
   ],
   "source": [
    "# Impression des mots qui n'apparaissent qu'une fois dans le corpus\n",
    "fdist.hapaxes()[:30]"
   ]
  },
  {
   "cell_type": "code",
   "execution_count": 19,
   "metadata": {
    "tags": []
   },
   "outputs": [
    {
     "output_type": "execute_result",
     "data": {
      "text/plain": [
       "['aaelomeratieraad',\n",
       " 'aanaardingsstraat',\n",
       " 'aanaardingstraat',\n",
       " 'aanbebestedingen',\n",
       " 'aanbestedingbestek',\n",
       " 'aanbestedingbestekken',\n",
       " 'aanbestedingsaankondiging',\n",
       " 'aanbestedingsbestek',\n",
       " 'aanbestedingsbestekken',\n",
       " 'aanbestedingsdokumenten',\n",
       " 'aanbestedingsdossier',\n",
       " 'aanbestedingsdossiers',\n",
       " 'aanbestedingsformulieren',\n",
       " 'aanbestedingskosten',\n",
       " 'aanbestedingslbestek',\n",
       " 'aanbestedingsplannen',\n",
       " 'aanbestedingsprijs',\n",
       " 'aanbestedingsprijzen',\n",
       " 'aanbestedingsregime',\n",
       " 'aanbestedingsverrichtingen',\n",
       " 'aanbestedingswerkzaamheden',\n",
       " 'aanbestedingswijze',\n",
       " 'aanbestedingszitting',\n",
       " 'aanbestedingszittingen',\n",
       " 'aanbestedïngsbestekken',\n",
       " 'aanbestingsbestekken',\n",
       " 'aandeeldividenden',\n",
       " 'aandeelpercentage',\n",
       " 'aangelegenheiden',\n",
       " 'aangeleiçenheden']"
      ]
     },
     "metadata": {},
     "execution_count": 19
    }
   ],
   "source": [
    "long_words = [w for w in voc if len(w) > 15]\n",
    "sorted(long_words)[:30]"
   ]
  },
  {
   "cell_type": "code",
   "execution_count": null,
   "metadata": {},
   "outputs": [],
   "source": []
  }
 ]
}