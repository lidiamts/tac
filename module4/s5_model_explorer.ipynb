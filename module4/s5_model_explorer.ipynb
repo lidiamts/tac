{
 "metadata": {
  "language_info": {
   "codemirror_mode": {
    "name": "ipython",
    "version": 3
   },
   "file_extension": ".py",
   "mimetype": "text/x-python",
   "name": "python",
   "nbconvert_exporter": "python",
   "pygments_lexer": "ipython3",
   "version": "3.7.3-final"
  },
  "orig_nbformat": 2,
  "kernelspec": {
   "name": "python3",
   "display_name": "Python 3"
  }
 },
 "nbformat": 4,
 "nbformat_minor": 2,
 "cells": [
  {
   "cell_type": "code",
   "execution_count": 1,
   "metadata": {},
   "outputs": [],
   "source": [
    "from gensim.models import Word2Vec\n",
    "from pprint import pprint"
   ]
  },
  {
   "source": [
    "# Charger le modèle que nous venons de créer"
   ],
   "cell_type": "markdown",
   "metadata": {}
  },
  {
   "cell_type": "code",
   "execution_count": 2,
   "metadata": {},
   "outputs": [],
   "source": [
    "model = Word2Vec.load(\"../data/bulletins.model\")"
   ]
  },
  {
   "source": [
    "# Comment est représenté le mot \"rue\" ?"
   ],
   "cell_type": "markdown",
   "metadata": {}
  },
  {
   "cell_type": "code",
   "execution_count": 3,
   "metadata": {},
   "outputs": [
    {
     "output_type": "execute_result",
     "data": {
      "text/plain": [
       "array([ 4.6136966 ,  1.1459507 , -0.33679622,  2.0271666 ,  0.3751619 ,\n",
       "        2.0549624 ,  2.258025  , -6.3563495 ,  5.094704  , -6.766574  ,\n",
       "        6.8895154 ,  3.483014  , -1.9100922 ,  2.579483  , -0.2869899 ,\n",
       "        2.314507  , -3.1208124 , -2.072824  , -0.85015535, -3.406065  ,\n",
       "       -0.26791307, -1.8367897 ,  0.29219434,  3.60604   ,  6.7350626 ,\n",
       "        0.30892456,  0.69692856, -0.898924  ,  0.9638386 , -0.19593342,\n",
       "        0.53528017,  4.2491293 ], dtype=float32)"
      ]
     },
     "metadata": {},
     "execution_count": 3
    }
   ],
   "source": [
    "model[\"droit\"]"
   ]
  },
  {
   "source": [
    "# Et fleuriste ?"
   ],
   "cell_type": "markdown",
   "metadata": {}
  },
  {
   "cell_type": "code",
   "execution_count": 4,
   "metadata": {},
   "outputs": [
    {
     "output_type": "execute_result",
     "data": {
      "text/plain": [
       "array([ 6.2274203e+00, -9.2955118e-01, -1.8741617e+00,  8.0429220e-01,\n",
       "        2.2561216e+00,  3.1553919e+00,  1.1261796e+00, -9.3728793e-01,\n",
       "        1.3441812e+00,  2.3731916e+00,  3.3432333e+00,  5.9324735e-01,\n",
       "       -3.2274878e+00,  1.3983849e+00,  6.8156511e-01,  1.4357294e+00,\n",
       "        1.9810754e+00,  2.6516445e+00,  4.8539495e+00,  7.9504764e-01,\n",
       "        2.7977455e-01,  2.4800460e+00, -1.1216476e+00, -3.0621204e-01,\n",
       "        4.1008482e+00,  3.0158153e-02, -3.0815792e+00,  1.7205501e-03,\n",
       "        1.4351189e+00,  5.9162624e-02, -2.3400767e+00,  4.0868092e+00],\n",
       "      dtype=float32)"
      ]
     },
     "metadata": {},
     "execution_count": 4
    }
   ],
   "source": [
    "model[\"enfant\"]"
   ]
  },
  {
   "cell_type": "code",
   "execution_count": 5,
   "metadata": {},
   "outputs": [
    {
     "output_type": "execute_result",
     "data": {
      "text/plain": [
       "array([ 5.838564  , -1.3496927 ,  0.6027062 ,  2.3107681 ,  3.5864    ,\n",
       "        0.40103823,  2.9116013 ,  0.25461024,  1.2234566 , -1.8738552 ,\n",
       "        0.38390583,  1.6881479 , -5.921165  ,  3.266434  , -2.8023586 ,\n",
       "        5.087691  ,  0.5576934 ,  1.8209465 ,  2.740978  , -1.5634825 ,\n",
       "        3.0895562 ,  2.375989  ,  0.6888519 ,  1.8837216 ,  6.6632633 ,\n",
       "       -1.0541102 , -1.7729425 , -4.2697845 ,  4.5279183 ,  3.063027  ,\n",
       "        1.3696928 ,  2.5070856 ], dtype=float32)"
      ]
     },
     "metadata": {},
     "execution_count": 5
    }
   ],
   "source": [
    "model[\"intérêt\"]"
   ]
  },
  {
   "cell_type": "code",
   "execution_count": 6,
   "metadata": {},
   "outputs": [
    {
     "output_type": "execute_result",
     "data": {
      "text/plain": [
       "array([ 5.161667  , -1.0895447 , -0.0230447 ,  0.20858462,  1.4782729 ,\n",
       "       -5.316811  ,  1.5882968 , -1.7193917 , -1.80651   , -4.4230156 ,\n",
       "       -0.4288331 , -2.474889  ,  5.1492996 ,  1.3850217 ,  3.3727293 ,\n",
       "        2.2834249 ,  2.4994876 , -2.5464535 , -1.4143519 , -3.629386  ,\n",
       "       -0.55808455,  3.3460984 , -7.3816495 , -2.431903  ,  4.05623   ,\n",
       "       -9.545789  ,  7.4668465 ,  0.57801384, -1.7961452 , -0.800065  ,\n",
       "        3.7318008 ,  2.350015  ], dtype=float32)"
      ]
     },
     "metadata": {},
     "execution_count": 6
    }
   ],
   "source": [
    "model[\"finances\"]"
   ]
  },
  {
   "cell_type": "code",
   "execution_count": 7,
   "metadata": {},
   "outputs": [
    {
     "output_type": "execute_result",
     "data": {
      "text/plain": [
       "array([ 3.083989  ,  5.5080957 , -4.9253597 ,  3.6468089 ,  4.3894353 ,\n",
       "       -1.1454682 ,  4.790769  , -4.945792  , -0.6251932 , -7.9559007 ,\n",
       "        1.347176  , -1.4796202 ,  3.1196973 ,  3.157931  ,  1.1903323 ,\n",
       "       -0.6280316 ,  3.1529891 ,  1.1665323 , -2.5866137 ,  2.2288227 ,\n",
       "       -0.977595  ,  1.7037773 , -3.21295   ,  3.5839274 ,  5.688839  ,\n",
       "       -1.7251812 ,  1.4057797 , -1.9711232 , -1.6781983 , -0.33101377,\n",
       "        6.953232  ,  0.06386632], dtype=float32)"
      ]
     },
     "metadata": {},
     "execution_count": 7
    }
   ],
   "source": [
    "model[\"projet\"]"
   ]
  },
  {
   "cell_type": "code",
   "execution_count": 8,
   "metadata": {},
   "outputs": [
    {
     "output_type": "execute_result",
     "data": {
      "text/plain": [
       "array([ 4.8338537 ,  2.5643048 , -1.9249376 ,  3.0726955 ,  5.594936  ,\n",
       "        1.7610611 ,  3.603539  , -0.66813517, -2.0583334 ,  0.29918054,\n",
       "        0.04639248,  1.2019997 , -0.5233152 ,  4.5607657 , -2.0026772 ,\n",
       "        3.278492  ,  0.19269559, -1.2284387 ,  3.9912732 , -2.536532  ,\n",
       "        2.275466  ,  6.5978265 , -2.40859   ,  1.3073851 ,  0.8849578 ,\n",
       "       -0.7474956 , -2.561265  , -1.6671821 ,  1.0381991 , -0.22601643,\n",
       "        1.9215338 , -0.14627856], dtype=float32)"
      ]
     },
     "metadata": {},
     "execution_count": 8
    }
   ],
   "source": [
    "model[\"établissement\"]"
   ]
  },
  {
   "source": [
    "# Quel est leur similarité ?"
   ],
   "cell_type": "code",
   "metadata": {},
   "execution_count": null,
   "outputs": []
  },
  {
   "cell_type": "code",
   "execution_count": 9,
   "metadata": {},
   "outputs": [
    {
     "output_type": "execute_result",
     "data": {
      "text/plain": [
       "0.3714439"
      ]
     },
     "metadata": {},
     "execution_count": 9
    }
   ],
   "source": [
    "model.wv.similarity(\"droit\", \"enfant\")"
   ]
  },
  {
   "cell_type": "code",
   "execution_count": 10,
   "metadata": {},
   "outputs": [
    {
     "output_type": "execute_result",
     "data": {
      "text/plain": [
       "0.09796089"
      ]
     },
     "metadata": {},
     "execution_count": 10
    }
   ],
   "source": [
    "model.wv.similarity(\"intérêt\", \"finances\")"
   ]
  },
  {
   "cell_type": "code",
   "execution_count": 11,
   "metadata": {},
   "outputs": [
    {
     "output_type": "execute_result",
     "data": {
      "text/plain": [
       "0.4114052"
      ]
     },
     "metadata": {},
     "execution_count": 11
    }
   ],
   "source": [
    "model.wv.similarity(\"projet\", \"établissement\")"
   ]
  },
  {
   "source": [
    "# Quel mot est le plus proche de rue ?"
   ],
   "cell_type": "markdown",
   "metadata": {}
  },
  {
   "cell_type": "code",
   "execution_count": 12,
   "metadata": {},
   "outputs": [
    {
     "output_type": "execute_result",
     "data": {
      "text/plain": [
       "[('privilège', 0.820995569229126),\n",
       " ('besoin', 0.8047282695770264),\n",
       " ('soin', 0.7988415956497192),\n",
       " ('monopole', 0.7955968976020813),\n",
       " ('permis', 0.7675818204879761)]"
      ]
     },
     "metadata": {},
     "execution_count": 12
    }
   ],
   "source": [
    "model.wv.most_similar(\"droit\", topn=5)"
   ]
  },
  {
   "source": [
    "# Et de Bruxelles ?"
   ],
   "cell_type": "markdown",
   "metadata": {}
  },
  {
   "cell_type": "code",
   "execution_count": 13,
   "metadata": {},
   "outputs": [
    {
     "output_type": "execute_result",
     "data": {
      "text/plain": [
       "[('homme', 0.9126935005187988),\n",
       " ('ouvrier', 0.9027388691902161),\n",
       " ('indigent', 0.885165810585022),\n",
       " ('individu', 0.8618616461753845),\n",
       " ('artiste', 0.857304573059082)]"
      ]
     },
     "metadata": {},
     "execution_count": 13
    }
   ],
   "source": [
    "model.wv.most_similar(\"enfant\", topn=5)"
   ]
  },
  {
   "cell_type": "code",
   "execution_count": 14,
   "metadata": {},
   "outputs": [
    {
     "output_type": "execute_result",
     "data": {
      "text/plain": [
       "[('avantage', 0.8789888620376587),\n",
       " ('attrait', 0.8175963759422302),\n",
       " ('avenir', 0.8167310953140259),\n",
       " ('impôt', 0.782814085483551),\n",
       " ('éclat', 0.781389594078064)]"
      ]
     },
     "metadata": {},
     "execution_count": 14
    }
   ],
   "source": [
    "model.wv.most_similar(\"intérêt\", topn=5)"
   ]
  },
  {
   "cell_type": "code",
   "execution_count": 19,
   "metadata": {},
   "outputs": [
    {
     "output_type": "execute_result",
     "data": {
      "text/plain": [
       "[('travaux_publics', 0.9330717325210571),\n",
       " ('communications', 0.7543403506278992),\n",
       " ('travaux_publies', 0.7468973398208618),\n",
       " ('bourgmestres', 0.7083480358123779),\n",
       " ('propriétés_communales', 0.7073931694030762),\n",
       " ('affaires_étrangères', 0.7034941911697388)]"
      ]
     },
     "metadata": {},
     "execution_count": 19
    }
   ],
   "source": [
    "model.wv.most_similar(\"finances\", topn=6)"
   ]
  },
  {
   "cell_type": "code",
   "execution_count": 17,
   "metadata": {},
   "outputs": [
    {
     "output_type": "execute_result",
     "data": {
      "text/plain": [
       "[('plan', 0.9062720537185669),\n",
       " ('dossier', 0.8902087807655334),\n",
       " ('projet_définitif', 0.8469205498695374),\n",
       " ('texte', 0.8432580232620239),\n",
       " ('rapport', 0.8259219527244568)]"
      ]
     },
     "metadata": {},
     "execution_count": 17
    }
   ],
   "source": [
    "model.wv.most_similar(\"projet\", topn=5)"
   ]
  },
  {
   "cell_type": "code",
   "execution_count": 18,
   "metadata": {},
   "outputs": [
    {
     "output_type": "execute_result",
     "data": {
      "text/plain": [
       "[('édification', 0.9329835176467896),\n",
       " ('implantation', 0.9130280613899231),\n",
       " ('érection', 0.9029116034507751),\n",
       " ('utilisation', 0.8943573832511902),\n",
       " ('éloignement', 0.8767139911651611)]"
      ]
     },
     "metadata": {},
     "execution_count": 18
    }
   ],
   "source": [
    "model.wv.most_similar(\"établissement\", topn=5)"
   ]
  },
  {
   "source": [
    "# Comment obtenir une ville de France grâce à notre modèle ?"
   ],
   "cell_type": "markdown",
   "metadata": {}
  },
  {
   "cell_type": "code",
   "execution_count": 8,
   "metadata": {},
   "outputs": [
    {
     "output_type": "execute_result",
     "data": {
      "text/plain": [
       "[('gand', 0.8955814242362976)]"
      ]
     },
     "metadata": {},
     "execution_count": 8
    }
   ],
   "source": [
    "model.wv.most_similar(positive=['bruxelles', 'france'], negative=['belgique'], topn=1)"
   ]
  },
  {
   "cell_type": "code",
   "execution_count": 9,
   "metadata": {},
   "outputs": [
    {
     "output_type": "execute_result",
     "data": {
      "text/plain": [
       "[('lausanne', 0.8658036589622498)]"
      ]
     },
     "metadata": {},
     "execution_count": 9
    }
   ],
   "source": [
    "model.wv.most_similar(positive=['bruxelles', 'liege', 'france'], negative=['belgique'], topn=1)"
   ]
  },
  {
   "cell_type": "code",
   "execution_count": null,
   "metadata": {},
   "outputs": [],
   "source": []
  },
  {
   "cell_type": "code",
   "execution_count": null,
   "metadata": {},
   "outputs": [],
   "source": []
  }
 ]
}