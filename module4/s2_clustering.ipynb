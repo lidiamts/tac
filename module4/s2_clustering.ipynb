{
 "metadata": {
  "language_info": {
   "codemirror_mode": {
    "name": "ipython",
    "version": 3
   },
   "file_extension": ".py",
   "mimetype": "text/x-python",
   "name": "python",
   "nbconvert_exporter": "python",
   "pygments_lexer": "ipython3",
   "version": "3.7.3-final"
  },
  "orig_nbformat": 2,
  "kernelspec": {
   "name": "python3",
   "display_name": "Python 3"
  }
 },
 "nbformat": 4,
 "nbformat_minor": 2,
 "cells": [
  {
   "cell_type": "code",
   "execution_count": 1,
   "metadata": {},
   "outputs": [],
   "source": [
    "import collections\n",
    "import os\n",
    "import string\n",
    "import sys\n",
    "\n",
    "import pandas as pd\n",
    "from nltk import word_tokenize\n",
    "from nltk.corpus import stopwords\n",
    "from pprint import pprint\n",
    "from sklearn.cluster import KMeans\n",
    "from sklearn.feature_extraction.text import TfidfVectorizer"
   ]
  },
  {
   "cell_type": "code",
   "execution_count": 2,
   "metadata": {},
   "outputs": [
    {
     "output_type": "stream",
     "name": "stderr",
     "text": [
      "[nltk_data] Downloading package punkt to\n[nltk_data]     C:\\Users\\Lidia\\AppData\\Roaming\\nltk_data...\n[nltk_data]   Package punkt is already up-to-date!\n"
     ]
    },
    {
     "output_type": "execute_result",
     "data": {
      "text/plain": [
       "True"
      ]
     },
     "metadata": {},
     "execution_count": 2
    }
   ],
   "source": [
    "import nltk\n",
    "\n",
    "nltk.download('punkt')"
   ]
  },
  {
   "cell_type": "code",
   "execution_count": 3,
   "metadata": {},
   "outputs": [],
   "source": [
    "data_path = \"../data/txt/\""
   ]
  },
  {
   "source": [
    "# Choix d'une décennie et du nombre de clusters"
   ],
   "cell_type": "markdown",
   "metadata": {}
  },
  {
   "cell_type": "code",
   "execution_count": 4,
   "metadata": {},
   "outputs": [],
   "source": [
    "N_CLUSTERS = 5"
   ]
  },
  {
   "source": [
    "# Chargement des fichiers de la décennie"
   ],
   "cell_type": "markdown",
   "metadata": {}
  },
  {
   "cell_type": "code",
   "execution_count": 5,
   "metadata": {},
   "outputs": [],
   "source": [
    "files = [f for f in sorted(os.listdir(data_path)) if f\"_{all}\" in f]"
   ]
  },
  {
   "cell_type": "code",
   "execution_count": 6,
   "metadata": {},
   "outputs": [
    {
     "output_type": "execute_result",
     "data": {
      "text/plain": [
       "[]"
      ]
     },
     "metadata": {},
     "execution_count": 6
    }
   ],
   "source": [
    "# Exemple de fichiers\n",
    "files[:2028]"
   ]
  },
  {
   "cell_type": "code",
   "execution_count": 7,
   "metadata": {},
   "outputs": [],
   "source": [
    "texts = [open(data_path + f, encoding = 'utf-8').read() for f in files]"
   ]
  },
  {
   "cell_type": "code",
   "execution_count": 8,
   "metadata": {},
   "outputs": [
    {
     "output_type": "error",
     "ename": "IndexError",
     "evalue": "list index out of range",
     "traceback": [
      "\u001b[1;31m---------------------------------------------------------------------------\u001b[0m",
      "\u001b[1;31mIndexError\u001b[0m                                Traceback (most recent call last)",
      "\u001b[1;32m<ipython-input-8-af1629dfe5b4>\u001b[0m in \u001b[0;36m<module>\u001b[1;34m\u001b[0m\n\u001b[0;32m      1\u001b[0m \u001b[1;31m# Exemple de textes\u001b[0m\u001b[1;33m\u001b[0m\u001b[1;33m\u001b[0m\u001b[1;33m\u001b[0m\u001b[0m\n\u001b[1;32m----> 2\u001b[1;33m \u001b[0mtexts\u001b[0m\u001b[1;33m[\u001b[0m\u001b[1;36m0\u001b[0m\u001b[1;33m]\u001b[0m\u001b[1;33m[\u001b[0m\u001b[1;33m:\u001b[0m\u001b[1;36m2028\u001b[0m\u001b[1;33m]\u001b[0m\u001b[1;33m\u001b[0m\u001b[1;33m\u001b[0m\u001b[0m\n\u001b[0m",
      "\u001b[1;31mIndexError\u001b[0m: list index out of range"
     ]
    }
   ],
   "source": [
    "# Exemple de textes\n",
    "texts[0][:400]"
   ]
  },
  {
   "source": [
    "# Vectorisation du texte"
   ],
   "cell_type": "markdown",
   "metadata": {}
  },
  {
   "cell_type": "code",
   "execution_count": 10,
   "metadata": {},
   "outputs": [],
   "source": [
    "def process_text(text, stem=True):\n",
    "    \"\"\" Tokenize text and remove punctuation \"\"\"\n",
    "    text = text.translate(string.punctuation)\n",
    "    tokens = word_tokenize(text)\n",
    "    return tokens"
   ]
  },
  {
   "cell_type": "code",
   "execution_count": 11,
   "metadata": {},
   "outputs": [],
   "source": [
    "vectorizer = TfidfVectorizer(tokenizer=process_text,\n",
    "                                stop_words=stopwords.words('french'),\n",
    "                                max_df=0.5,\n",
    "                                min_df=0.1,\n",
    "                                lowercase=True)"
   ]
  },
  {
   "cell_type": "code",
   "execution_count": 12,
   "metadata": {},
   "outputs": [
    {
     "output_type": "stream",
     "name": "stdout",
     "text": [
      "Wall time: 1min 8s\n"
     ]
    }
   ],
   "source": [
    "%time tfidf_vectors = vectorizer.fit_transform(texts)"
   ]
  },
  {
   "cell_type": "code",
   "execution_count": 13,
   "metadata": {},
   "outputs": [
    {
     "output_type": "execute_result",
     "data": {
      "text/plain": [
       "<97x8985 sparse matrix of type '<class 'numpy.float64'>'\n",
       "\twith 184711 stored elements in Compressed Sparse Row format>"
      ]
     },
     "metadata": {},
     "execution_count": 13
    }
   ],
   "source": [
    "tfidf_vectors"
   ]
  },
  {
   "cell_type": "code",
   "execution_count": 14,
   "metadata": {},
   "outputs": [
    {
     "output_type": "execute_result",
     "data": {
      "text/plain": [
       "file          0.401581\n",
       "galerie       0.267132\n",
       "partoes       0.212588\n",
       "bateau        0.152975\n",
       "bancs         0.143414\n",
       "                ...   \n",
       "mensuelle     0.000000\n",
       "mentale       0.000000\n",
       "mentionne     0.000000\n",
       "mentionner    0.000000\n",
       "#             0.000000\n",
       "Length: 8985, dtype: float64"
      ]
     },
     "metadata": {},
     "execution_count": 14
    }
   ],
   "source": [
    "# Exemple de vecteur TFIDF\n",
    "pd.Series(\n",
    "    tfidf_vectors[0].toarray()[0],\n",
    "    index=vectorizer.get_feature_names()\n",
    "    ).sort_values(ascending=False)"
   ]
  },
  {
   "source": [
    "# Comprendre les vecteurs et leurs \"distances\""
   ],
   "cell_type": "markdown",
   "metadata": {}
  },
  {
   "cell_type": "code",
   "execution_count": 15,
   "metadata": {},
   "outputs": [],
   "source": [
    "from scipy.spatial.distance import cosine"
   ]
  },
  {
   "cell_type": "code",
   "execution_count": 16,
   "metadata": {},
   "outputs": [
    {
     "output_type": "execute_result",
     "data": {
      "text/plain": [
       "0.0"
      ]
     },
     "metadata": {},
     "execution_count": 16
    }
   ],
   "source": [
    "cosine([1, 2, 3], [1, 2, 3])"
   ]
  },
  {
   "cell_type": "code",
   "execution_count": 17,
   "metadata": {},
   "outputs": [
    {
     "output_type": "execute_result",
     "data": {
      "text/plain": [
       "0.02004211298777725"
      ]
     },
     "metadata": {},
     "execution_count": 17
    }
   ],
   "source": [
    "cosine([1, 2, 3], [1, 2, 2])"
   ]
  },
  {
   "cell_type": "code",
   "execution_count": 18,
   "metadata": {},
   "outputs": [
    {
     "output_type": "execute_result",
     "data": {
      "text/plain": [
       "0.07417990022744858"
      ]
     },
     "metadata": {},
     "execution_count": 18
    }
   ],
   "source": [
    "cosine([1, 2, 3], [2, 2, 2])"
   ]
  },
  {
   "cell_type": "code",
   "execution_count": 19,
   "metadata": {},
   "outputs": [],
   "source": [
    "tfidf_array = tfidf_vectors.toarray()"
   ]
  },
  {
   "cell_type": "code",
   "execution_count": 20,
   "metadata": {},
   "outputs": [
    {
     "output_type": "execute_result",
     "data": {
      "text/plain": [
       "array([0.        , 0.        , 0.        , ..., 0.        , 0.        ,\n",
       "       0.00909305])"
      ]
     },
     "metadata": {},
     "execution_count": 20
    }
   ],
   "source": [
    "tfidf_array[0]"
   ]
  },
  {
   "cell_type": "code",
   "execution_count": 21,
   "metadata": {},
   "outputs": [
    {
     "output_type": "execute_result",
     "data": {
      "text/plain": [
       "\"LLETIN COMMUNAL.\\nANNÉE 1850.\\n\\nPREMIER\\n\\nSEMESTRE,\\n\\nBRUXELLES,\\nOIS-WITTOI'CK\\n\\n,\\n\\nIMPlUMtVR\\n\\nDE\\n\\nLA\\n\\nVILLE,\\n\\n1U K\\n\\n\\\\V\\n\\nl\\n\\n\\x0clïi\\n\\n\\x0cVILLE\\n\\nDE\\n\\nBRUXELLES.\\n\\nBULLETIN COMMUNAL.\\nANNÉE 1 8 5 0 . —\\n\\nN° 1.\\n\\nTravau\""
      ]
     },
     "metadata": {},
     "execution_count": 21
    }
   ],
   "source": [
    "texts[0][:200]"
   ]
  },
  {
   "cell_type": "code",
   "execution_count": 22,
   "metadata": {},
   "outputs": [
    {
     "output_type": "execute_result",
     "data": {
      "text/plain": [
       "array([0.        , 0.        , 0.        , ..., 0.        , 0.        ,\n",
       "       0.00909305])"
      ]
     },
     "metadata": {},
     "execution_count": 22
    }
   ],
   "source": [
    "tfidf_array[0]"
   ]
  },
  {
   "cell_type": "code",
   "execution_count": 23,
   "metadata": {},
   "outputs": [
    {
     "output_type": "execute_result",
     "data": {
      "text/plain": [
       "0.7699143026350066"
      ]
     },
     "metadata": {},
     "execution_count": 23
    }
   ],
   "source": [
    "cosine(tfidf_array[0], tfidf_array[1])"
   ]
  },
  {
   "source": [
    "# Clustering des vecteurs TFIDF"
   ],
   "cell_type": "markdown",
   "metadata": {}
  },
  {
   "source": [
    "Article intéressant sur le KMeans clustering :\n",
    "- https://medium.com/dataseries/k-means-clustering-explained-visually-in-5-minutes-b900cc69d175"
   ],
   "cell_type": "markdown",
   "metadata": {}
  },
  {
   "cell_type": "code",
   "execution_count": 24,
   "metadata": {},
   "outputs": [],
   "source": [
    "km_model = KMeans(n_clusters=N_CLUSTERS)"
   ]
  },
  {
   "cell_type": "code",
   "execution_count": 25,
   "metadata": {},
   "outputs": [
    {
     "output_type": "execute_result",
     "data": {
      "text/plain": [
       "KMeans(n_clusters=5)"
      ]
     },
     "metadata": {},
     "execution_count": 25
    }
   ],
   "source": [
    "km_model.fit(tfidf_vectors)"
   ]
  },
  {
   "cell_type": "code",
   "execution_count": 26,
   "metadata": {},
   "outputs": [],
   "source": [
    "clustering = collections.defaultdict(list)\n",
    "\n",
    "for idx, label in enumerate(km_model.labels_):\n",
    "    clustering[label].append(files[idx])"
   ]
  },
  {
   "cell_type": "code",
   "execution_count": 27,
   "metadata": {},
   "outputs": [
    {
     "output_type": "stream",
     "name": "stdout",
     "text": [
      "{0: ['Bxl_1854_Tome_II1_Part_1.txt',\n     'Bxl_1855_Tome_I1_Part_3.txt',\n     'Bxl_1855_Tome_I1_Part_4.txt',\n     'Bxl_1855_Tome_I1_Part_5.txt',\n     'Bxl_1855_Tome_I1_Part_6.txt',\n     'Bxl_1855_Tome_II1_Part_1.txt',\n     'Bxl_1855_Tome_II1_Part_3.txt',\n     'Bxl_1856_Tome_I1_Part_1.txt',\n     'Bxl_1856_Tome_I1_Part_2.txt',\n     'Bxl_1856_Tome_I1_Part_3.txt',\n     'Bxl_1856_Tome_I1_Part_4.txt',\n     'Bxl_1856_Tome_I1_Part_5.txt',\n     'Bxl_1856_Tome_II1_Part_1.txt',\n     'Bxl_1856_Tome_II1_Part_6.txt',\n     'Bxl_1857_Tome_I1_Part_1.txt',\n     'Bxl_1857_Tome_I1_Part_2.txt',\n     'Bxl_1857_Tome_I1_Part_3.txt',\n     'Bxl_1857_Tome_I1_Part_4.txt',\n     'Bxl_1857_Tome_II1_Part_1.txt'],\n 1: ['Bxl_1857_Tome_II1_Part_5.txt',\n     'Bxl_1857_Tome_II1_Part_6.txt',\n     'Bxl_1858_Tome_I1_Part_1.txt',\n     'Bxl_1858_Tome_I1_Part_2.txt',\n     'Bxl_1858_Tome_I1_Part_3.txt',\n     'Bxl_1858_Tome_I1_Part_4.txt',\n     'Bxl_1858_Tome_II1_Part_1.txt',\n     'Bxl_1858_Tome_II1_Part_2.txt',\n     'Bxl_1858_Tome_II1_Part_3.txt',\n     'Bxl_1858_Tome_II1_Part_4.txt',\n     'Bxl_1858_Tome_II1_Part_5.txt',\n     'Bxl_1859_Tome_I1_Part_1.txt',\n     'Bxl_1859_Tome_I1_Part_2.txt',\n     'Bxl_1859_Tome_I1_Part_3.txt',\n     'Bxl_1859_Tome_I1_Part_4.txt',\n     'Bxl_1859_Tome_II1_Part_1.txt',\n     'Bxl_1859_Tome_II1_Part_2.txt',\n     'Bxl_1859_Tome_II1_Part_3.txt',\n     'Bxl_1859_Tome_II1_Part_4.txt',\n     'Bxl_1859_Tome_II1_Part_5.txt'],\n 2: ['Bxl_1850_Tome_II1_Part_1.txt',\n     'Bxl_1850_Tome_II1_Part_3.txt',\n     'Bxl_1850_Tome_II1_Part_4.txt',\n     'Bxl_1850_Tome_II1_Part_5.txt',\n     'Bxl_1850_Tome_II1_Part_6.txt',\n     'Bxl_1851_Tome_II1_Part_2.txt',\n     'Bxl_1851_Tome_II1_Part_3.txt',\n     'Bxl_1852_Tome_I1_Part_5.txt',\n     'Bxl_1852_Tome_II1_Part_1.txt',\n     'Bxl_1852_Tome_II1_Part_3.txt',\n     'Bxl_1852_Tome_II1_Part_4.txt',\n     'Bxl_1854_Tome_II1_Part_2.txt',\n     'Bxl_1854_Tome_II1_Part_3.txt',\n     'Bxl_1854_Tome_II1_Part_4.txt',\n     'Bxl_1854_Tome_II1_Part_6.txt',\n     'Bxl_1855_Tome_I1_Part_1.txt',\n     'Bxl_1855_Tome_I1_Part_2.txt',\n     'Bxl_1855_Tome_II1_Part_2.txt',\n     'Bxl_1855_Tome_II1_Part_6.txt',\n     'Bxl_1855_Tome_II1_Part_7.txt',\n     'Bxl_1856_Tome_II1_Part_2.txt',\n     'Bxl_1856_Tome_II1_Part_3.txt',\n     'Bxl_1856_Tome_II1_Part_5.txt',\n     'Bxl_1856_Tome_II1_Part_7.txt',\n     'Bxl_1856_Tome_II1_Part_8.txt',\n     'Bxl_1857_Tome_I1_Part_5.txt',\n     'Bxl_1857_Tome_II1_Part_2.txt',\n     'Bxl_1857_Tome_II1_Part_3.txt'],\n 3: ['Bxl_1850_Tome_I1_Part_1.txt',\n     'Bxl_1850_Tome_I1_Part_2.txt',\n     'Bxl_1850_Tome_I1_Part_3.txt',\n     'Bxl_1850_Tome_I1_Part_4.txt',\n     'Bxl_1850_Tome_II1_Part_7.txt',\n     'Bxl_1851_Tome_I1_Part_1.txt',\n     'Bxl_1851_Tome_I1_Part_2.txt',\n     'Bxl_1851_Tome_I1_Part_3.txt',\n     'Bxl_1851_Tome_I1_Part_4.txt',\n     'Bxl_1851_Tome_I1_Part_5.txt',\n     'Bxl_1851_Tome_II1_Part_1.txt',\n     'Bxl_1851_Tome_II1_Part_5.txt',\n     'Bxl_1851_Tome_II1_Part_6.txt',\n     'Bxl_1851_Tome_II1_Part_7.txt',\n     'Bxl_1852_Tome_I1_Part_1.txt',\n     'Bxl_1852_Tome_I1_Part_2.txt',\n     'Bxl_1852_Tome_I1_Part_3.txt',\n     'Bxl_1852_Tome_I1_Part_4.txt',\n     'Bxl_1852_Tome_II1_Part_5.txt',\n     'Bxl_1854_Tome_I1_Part_1.txt',\n     'Bxl_1854_Tome_I1_Part_2.txt',\n     'Bxl_1854_Tome_I1_Part_3.txt'],\n 4: ['Bxl_1850_Tome_II1_Part_2.txt',\n     'Bxl_1851_Tome_II1_Part_4.txt',\n     'Bxl_1852_Tome_II1_Part_2.txt',\n     'Bxl_1854_Tome_II1_Part_5.txt',\n     'Bxl_1855_Tome_II1_Part_4.txt',\n     'Bxl_1855_Tome_II1_Part_5.txt',\n     'Bxl_1856_Tome_II1_Part_4.txt',\n     'Bxl_1857_Tome_II1_Part_4.txt']}\n"
     ]
    }
   ],
   "source": [
    "pprint(dict(clustering))"
   ]
  },
  {
   "cell_type": "code",
   "execution_count": null,
   "metadata": {},
   "outputs": [],
   "source": []
  }
 ]
}