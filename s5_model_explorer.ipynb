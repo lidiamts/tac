{
 "metadata": {
  "language_info": {
   "codemirror_mode": {
    "name": "ipython",
    "version": 3
   },
   "file_extension": ".py",
   "mimetype": "text/x-python",
   "name": "python",
   "nbconvert_exporter": "python",
   "pygments_lexer": "ipython3",
   "version": "3.7.3-final"
  },
  "orig_nbformat": 2,
  "kernelspec": {
   "name": "python3",
   "display_name": "Python 3",
   "language": "python"
  }
 },
 "nbformat": 4,
 "nbformat_minor": 2,
 "cells": [
  {
   "cell_type": "code",
   "execution_count": 1,
   "metadata": {},
   "outputs": [],
   "source": [
    "from gensim.models import Word2Vec\n",
    "from pprint import pprint"
   ]
  },
  {
   "source": [
    "# Charger le modèle que nous venons de créer"
   ],
   "cell_type": "markdown",
   "metadata": {}
  },
  {
   "cell_type": "code",
   "execution_count": 2,
   "metadata": {},
   "outputs": [],
   "source": [
    "model = Word2Vec.load(\"../data/bulletins.model\")"
   ]
  },
  {
   "source": [
    "# Comment sont représentés différents mots ?"
   ],
   "cell_type": "markdown",
   "metadata": {}
  },
  {
   "cell_type": "code",
   "execution_count": 3,
   "metadata": {},
   "outputs": [
    {
     "output_type": "execute_result",
     "data": {
      "text/plain": [
       "array([ 2.4627285 , -1.7784005 , -4.0468683 , -1.8031594 , -0.6661279 ,\n",
       "       -4.157799  , -2.1697192 ,  0.8520668 , -1.2168446 ,  2.2069824 ,\n",
       "        1.2129885 ,  0.4530996 , -1.4567882 ,  3.032476  ,  0.92384267,\n",
       "        1.3077826 , -2.9915054 , -0.06223039, -2.550695  , -1.0580279 ,\n",
       "        3.9835432 ,  3.8421102 , -6.9553676 , -1.253529  ,  0.87399846,\n",
       "       -3.75463   ,  2.2305326 , -1.8212458 ,  5.5632305 ,  1.859618  ,\n",
       "       -3.254042  ,  3.0888567 ], dtype=float32)"
      ]
     },
     "metadata": {},
     "execution_count": 3
    }
   ],
   "source": [
    "model[\"écoles\"]"
   ]
  },
  {
   "cell_type": "code",
   "execution_count": 4,
   "metadata": {},
   "outputs": [
    {
     "output_type": "execute_result",
     "data": {
      "text/plain": [
       "array([ 3.111459  , -0.86442506, -2.2010136 , -0.6002313 ,  0.57674533,\n",
       "        1.2566787 , -1.2194526 ,  2.2046642 , -4.0669365 ,  2.15471   ,\n",
       "        1.5108547 ,  0.73985976, -1.8913542 ,  4.3854523 , -1.0939627 ,\n",
       "        6.2224    ,  1.9452482 ,  0.41147614,  4.960215  ,  1.2069483 ,\n",
       "        2.5457745 ,  8.07792   , -7.2082    ,  0.90736806,  1.3398755 ,\n",
       "        2.3149948 , -1.1983598 , -2.2774646 ,  1.5847142 , -1.1262947 ,\n",
       "       -4.0208106 ,  1.0689629 ], dtype=float32)"
      ]
     },
     "metadata": {},
     "execution_count": 4
    }
   ],
   "source": [
    "model[\"école\"]"
   ]
  },
  {
   "cell_type": "code",
   "execution_count": 8,
   "metadata": {},
   "outputs": [
    {
     "output_type": "execute_result",
     "data": {
      "text/plain": [
       "array([ 6.795294  ,  0.60379636, -0.3846002 ,  1.9217948 ,  4.7289166 ,\n",
       "        1.1285582 ,  1.6093993 ,  0.07195897, -2.2438416 ,  2.3959517 ,\n",
       "        1.0741981 , -2.2126546 , -3.128365  ,  3.6070719 ,  0.80732495,\n",
       "        5.1329765 , -0.6841015 ,  2.0680888 ,  2.3277066 ,  1.8436279 ,\n",
       "        3.1122308 ,  6.0309725 , -3.8256075 , -0.8336695 ,  4.110811  ,\n",
       "       -0.6121456 , -0.6765665 , -4.107558  ,  2.647708  ,  2.135627  ,\n",
       "       -0.7743621 , -0.66629565], dtype=float32)"
      ]
     },
     "metadata": {},
     "execution_count": 8
    }
   ],
   "source": [
    "model[\"enseignement\"]"
   ]
  },
  {
   "cell_type": "code",
   "execution_count": 9,
   "metadata": {},
   "outputs": [
    {
     "output_type": "execute_result",
     "data": {
      "text/plain": [
       "array([ 6.2274203e+00, -9.2955118e-01, -1.8741617e+00,  8.0429220e-01,\n",
       "        2.2561216e+00,  3.1553919e+00,  1.1261796e+00, -9.3728793e-01,\n",
       "        1.3441812e+00,  2.3731916e+00,  3.3432333e+00,  5.9324735e-01,\n",
       "       -3.2274878e+00,  1.3983849e+00,  6.8156511e-01,  1.4357294e+00,\n",
       "        1.9810754e+00,  2.6516445e+00,  4.8539495e+00,  7.9504764e-01,\n",
       "        2.7977455e-01,  2.4800460e+00, -1.1216476e+00, -3.0621204e-01,\n",
       "        4.1008482e+00,  3.0158153e-02, -3.0815792e+00,  1.7205501e-03,\n",
       "        1.4351189e+00,  5.9162624e-02, -2.3400767e+00,  4.0868092e+00],\n",
       "      dtype=float32)"
      ]
     },
     "metadata": {},
     "execution_count": 9
    }
   ],
   "source": [
    "model[\"enfant\"]"
   ]
  },
  {
   "cell_type": "code",
   "execution_count": 10,
   "metadata": {},
   "outputs": [
    {
     "output_type": "execute_result",
     "data": {
      "text/plain": [
       "array([ 6.2570853e+00, -2.6101801e+00, -5.3353152e+00, -1.1771131e+00,\n",
       "       -1.4622183e+00, -4.0766549e+00, -3.0406756e+00,  1.1903464e+00,\n",
       "       -3.7710131e-03,  1.9108466e+00,  3.5455263e+00,  1.6820370e+00,\n",
       "       -2.2604866e+00,  3.3935232e+00,  1.6161913e-01, -1.3710011e+00,\n",
       "       -1.8535742e+00,  7.7371055e-01,  8.0884510e-01, -1.7190872e+00,\n",
       "        2.5737593e+00,  2.9423895e+00, -5.7086120e+00, -3.2067511e+00,\n",
       "        2.7745309e+00, -3.7136726e+00, -2.3820076e+00, -1.7337817e+00,\n",
       "        6.6790109e+00,  3.7073314e-01, -5.2175651e+00,  5.5153131e+00],\n",
       "      dtype=float32)"
      ]
     },
     "metadata": {},
     "execution_count": 10
    }
   ],
   "source": [
    "model[\"enfants\"]"
   ]
  },
  {
   "cell_type": "code",
   "execution_count": 26,
   "metadata": {},
   "outputs": [
    {
     "output_type": "execute_result",
     "data": {
      "text/plain": [
       "array([ 1.8370539 , -0.20232679,  0.7628573 ,  0.40007168,  1.7026653 ,\n",
       "        0.4959828 , -1.4058601 ,  0.24501503, -0.5830024 ,  0.97756505,\n",
       "        1.0238653 ,  0.42093924, -0.41134202, -0.19051886,  0.99977344,\n",
       "        1.3790194 , -1.1081969 ,  0.9645278 , -0.22750832,  0.56065035,\n",
       "       -0.5459507 ,  0.09724881, -1.7271066 , -0.30194747,  1.1570495 ,\n",
       "       -0.3271167 ,  0.50609255, -0.90565753, -0.25505638,  1.2594014 ,\n",
       "       -1.2103385 ,  0.3375808 ], dtype=float32)"
      ]
     },
     "metadata": {},
     "execution_count": 26
    }
   ],
   "source": [
    "model[\"enseignant\"]"
   ]
  },
  {
   "cell_type": "code",
   "execution_count": 27,
   "metadata": {},
   "outputs": [
    {
     "output_type": "execute_result",
     "data": {
      "text/plain": [
       "array([ 0.99282205, -0.9228686 , -0.8511785 , -0.2301271 ,  0.3568861 ,\n",
       "        0.06682912, -0.7279199 ,  0.30461824,  0.40031102,  1.1133858 ,\n",
       "        0.57621056, -0.08977163, -0.8954254 ,  0.1480089 , -0.03617095,\n",
       "       -0.1853795 , -1.1591294 , -0.32504585, -0.76892453, -0.51883936,\n",
       "        0.19827141,  0.8065428 , -0.5562091 , -1.0050572 , -0.2830745 ,\n",
       "       -0.9790163 ,  1.0900143 , -0.6140099 ,  0.75177443,  0.21935064,\n",
       "       -0.370702  ,  0.3606651 ], dtype=float32)"
      ]
     },
     "metadata": {},
     "execution_count": 27
    }
   ],
   "source": [
    "model[\"enseignants\"]"
   ]
  },
  {
   "cell_type": "code",
   "execution_count": 28,
   "metadata": {},
   "outputs": [
    {
     "output_type": "execute_result",
     "data": {
      "text/plain": [
       "array([-0.01209161, -0.14184736, -0.03996523,  0.02723919,  0.06275512,\n",
       "        0.16271847, -0.08528477, -0.05378531,  0.05096367,  0.13632645,\n",
       "        0.02351952,  0.03027547,  0.02850783, -0.09453595, -0.10787323,\n",
       "        0.07240692,  0.14883143,  0.00992797,  0.02150531,  0.12323753,\n",
       "       -0.09492624,  0.0664112 , -0.00880105,  0.06379541,  0.0448592 ,\n",
       "        0.03757534, -0.08719513,  0.00722023, -0.01514795, -0.15893249,\n",
       "       -0.11566861,  0.07512248], dtype=float32)"
      ]
     },
     "metadata": {},
     "execution_count": 28
    }
   ],
   "source": [
    "model[\"enseignante\"]"
   ]
  },
  {
   "source": [
    "# Quel est leur similarité ?"
   ],
   "cell_type": "code",
   "metadata": {},
   "execution_count": null,
   "outputs": []
  },
  {
   "cell_type": "code",
   "execution_count": 11,
   "metadata": {},
   "outputs": [
    {
     "output_type": "execute_result",
     "data": {
      "text/plain": [
       "0.51471174"
      ]
     },
     "metadata": {},
     "execution_count": 11
    }
   ],
   "source": [
    "model.wv.similarity(\"écoles\", \"école\")"
   ]
  },
  {
   "cell_type": "code",
   "execution_count": 10,
   "metadata": {},
   "outputs": [
    {
     "output_type": "execute_result",
     "data": {
      "text/plain": [
       "0.09796089"
      ]
     },
     "metadata": {},
     "execution_count": 10
    }
   ],
   "source": [
    "model.wv.similarity(\"écoles\", \"enfant\")"
   ]
  },
  {
   "cell_type": "code",
   "execution_count": 11,
   "metadata": {},
   "outputs": [
    {
     "output_type": "execute_result",
     "data": {
      "text/plain": [
       "0.4114052"
      ]
     },
     "metadata": {},
     "execution_count": 11
    }
   ],
   "source": [
    "model.wv.similarity(\"écoles\", \"enfants\")"
   ]
  },
  {
   "cell_type": "code",
   "execution_count": 12,
   "metadata": {},
   "outputs": [
    {
     "output_type": "execute_result",
     "data": {
      "text/plain": [
       "0.47490776"
      ]
     },
     "metadata": {},
     "execution_count": 12
    }
   ],
   "source": [
    "model.wv.similarity(\"écoles\", \"enseignement\")"
   ]
  },
  {
   "cell_type": "code",
   "execution_count": 13,
   "metadata": {},
   "outputs": [
    {
     "output_type": "execute_result",
     "data": {
      "text/plain": [
       "0.56813496"
      ]
     },
     "metadata": {},
     "execution_count": 13
    }
   ],
   "source": [
    "model.wv.similarity(\"école\", \"enfant\")"
   ]
  },
  {
   "cell_type": "code",
   "execution_count": 14,
   "metadata": {},
   "outputs": [
    {
     "output_type": "execute_result",
     "data": {
      "text/plain": [
       "0.5060304"
      ]
     },
     "metadata": {},
     "execution_count": 14
    }
   ],
   "source": [
    "model.wv.similarity(\"école\", \"enfants\")"
   ]
  },
  {
   "cell_type": "code",
   "execution_count": 15,
   "metadata": {},
   "outputs": [
    {
     "output_type": "execute_result",
     "data": {
      "text/plain": [
       "0.72619605"
      ]
     },
     "metadata": {},
     "execution_count": 15
    }
   ],
   "source": [
    "model.wv.similarity(\"école\", \"enseignement\")"
   ]
  },
  {
   "cell_type": "code",
   "execution_count": 16,
   "metadata": {},
   "outputs": [
    {
     "output_type": "execute_result",
     "data": {
      "text/plain": [
       "0.658751"
      ]
     },
     "metadata": {},
     "execution_count": 16
    }
   ],
   "source": [
    "model.wv.similarity(\"enseignement\", \"enfant\")"
   ]
  },
  {
   "cell_type": "code",
   "execution_count": 17,
   "metadata": {},
   "outputs": [
    {
     "output_type": "execute_result",
     "data": {
      "text/plain": [
       "0.44727445"
      ]
     },
     "metadata": {},
     "execution_count": 17
    }
   ],
   "source": [
    "model.wv.similarity(\"enseignement\", \"enfants\")"
   ]
  },
  {
   "cell_type": "code",
   "execution_count": 18,
   "metadata": {},
   "outputs": [
    {
     "output_type": "execute_result",
     "data": {
      "text/plain": [
       "0.5391825"
      ]
     },
     "metadata": {},
     "execution_count": 18
    }
   ],
   "source": [
    "model.wv.similarity(\"enfants\", \"enfant\")"
   ]
  },
  {
   "cell_type": "code",
   "execution_count": 30,
   "metadata": {},
   "outputs": [
    {
     "output_type": "execute_result",
     "data": {
      "text/plain": [
       "0.40962532"
      ]
     },
     "metadata": {},
     "execution_count": 30
    }
   ],
   "source": [
    "model.wv.similarity(\"école\", \"enseignant\")"
   ]
  },
  {
   "cell_type": "code",
   "execution_count": 31,
   "metadata": {},
   "outputs": [
    {
     "output_type": "execute_result",
     "data": {
      "text/plain": [
       "0.30867684"
      ]
     },
     "metadata": {},
     "execution_count": 31
    }
   ],
   "source": [
    "model.wv.similarity(\"école\", \"enseignante\")"
   ]
  },
  {
   "cell_type": "code",
   "execution_count": 32,
   "metadata": {},
   "outputs": [
    {
     "output_type": "execute_result",
     "data": {
      "text/plain": [
       "0.21945381"
      ]
     },
     "metadata": {},
     "execution_count": 32
    }
   ],
   "source": [
    "model.wv.similarity(\"école\", \"enseignants\")"
   ]
  },
  {
   "cell_type": "code",
   "execution_count": 33,
   "metadata": {},
   "outputs": [
    {
     "output_type": "execute_result",
     "data": {
      "text/plain": [
       "0.4047408"
      ]
     },
     "metadata": {},
     "execution_count": 33
    }
   ],
   "source": [
    "model.wv.similarity(\"écoles\", \"enseignant\")"
   ]
  },
  {
   "cell_type": "code",
   "execution_count": 34,
   "metadata": {},
   "outputs": [
    {
     "output_type": "execute_result",
     "data": {
      "text/plain": [
       "-0.15419364"
      ]
     },
     "metadata": {},
     "execution_count": 34
    }
   ],
   "source": [
    "model.wv.similarity(\"écoles\", \"enseignante\")"
   ]
  },
  {
   "cell_type": "code",
   "execution_count": 35,
   "metadata": {},
   "outputs": [
    {
     "output_type": "execute_result",
     "data": {
      "text/plain": [
       "0.7222921"
      ]
     },
     "metadata": {},
     "execution_count": 35
    }
   ],
   "source": [
    "model.wv.similarity(\"écoles\", \"enseignants\")"
   ]
  },
  {
   "cell_type": "code",
   "execution_count": 36,
   "metadata": {},
   "outputs": [
    {
     "output_type": "execute_result",
     "data": {
      "text/plain": [
       "0.4515723"
      ]
     },
     "metadata": {},
     "execution_count": 36
    }
   ],
   "source": [
    "model.wv.similarity(\"enfant\", \"enseignant\")"
   ]
  },
  {
   "cell_type": "code",
   "execution_count": 37,
   "metadata": {},
   "outputs": [
    {
     "output_type": "execute_result",
     "data": {
      "text/plain": [
       "0.41787758"
      ]
     },
     "metadata": {},
     "execution_count": 37
    }
   ],
   "source": [
    "model.wv.similarity(\"enfant\", \"enseignante\")"
   ]
  },
  {
   "cell_type": "code",
   "execution_count": 38,
   "metadata": {},
   "outputs": [
    {
     "output_type": "execute_result",
     "data": {
      "text/plain": [
       "0.21193601"
      ]
     },
     "metadata": {},
     "execution_count": 38
    }
   ],
   "source": [
    "model.wv.similarity(\"enfant\", \"enseignants\")"
   ]
  },
  {
   "cell_type": "code",
   "execution_count": 39,
   "metadata": {},
   "outputs": [
    {
     "output_type": "execute_result",
     "data": {
      "text/plain": [
       "0.37132198"
      ]
     },
     "metadata": {},
     "execution_count": 39
    }
   ],
   "source": [
    "model.wv.similarity(\"enfants\", \"enseignant\")"
   ]
  },
  {
   "cell_type": "code",
   "execution_count": 40,
   "metadata": {},
   "outputs": [
    {
     "output_type": "execute_result",
     "data": {
      "text/plain": [
       "0.020675346"
      ]
     },
     "metadata": {},
     "execution_count": 40
    }
   ],
   "source": [
    "model.wv.similarity(\"enfants\", \"enseignante\")"
   ]
  },
  {
   "cell_type": "code",
   "execution_count": 41,
   "metadata": {},
   "outputs": [
    {
     "output_type": "execute_result",
     "data": {
      "text/plain": [
       "0.6389837"
      ]
     },
     "metadata": {},
     "execution_count": 41
    }
   ],
   "source": [
    "model.wv.similarity(\"enfants\", \"enseignants\")"
   ]
  },
  {
   "cell_type": "code",
   "execution_count": 42,
   "metadata": {},
   "outputs": [
    {
     "output_type": "execute_result",
     "data": {
      "text/plain": [
       "0.61348987"
      ]
     },
     "metadata": {},
     "execution_count": 42
    }
   ],
   "source": [
    "model.wv.similarity(\"enseignement\", \"enseignant\")"
   ]
  },
  {
   "cell_type": "code",
   "execution_count": 43,
   "metadata": {},
   "outputs": [
    {
     "output_type": "execute_result",
     "data": {
      "text/plain": [
       "0.051466465"
      ]
     },
     "metadata": {},
     "execution_count": 43
    }
   ],
   "source": [
    "model.wv.similarity(\"enseignement\", \"enseignante\")"
   ]
  },
  {
   "cell_type": "code",
   "execution_count": 44,
   "metadata": {},
   "outputs": [
    {
     "output_type": "execute_result",
     "data": {
      "text/plain": [
       "0.3502673"
      ]
     },
     "metadata": {},
     "execution_count": 44
    }
   ],
   "source": [
    "model.wv.similarity(\"enseignement\", \"enseignants\")"
   ]
  },
  {
   "cell_type": "code",
   "execution_count": 45,
   "metadata": {},
   "outputs": [
    {
     "output_type": "execute_result",
     "data": {
      "text/plain": [
       "0.43387258"
      ]
     },
     "metadata": {},
     "execution_count": 45
    }
   ],
   "source": [
    "model.wv.similarity(\"enseignant\", \"enseignants\")"
   ]
  },
  {
   "cell_type": "code",
   "execution_count": 46,
   "metadata": {},
   "outputs": [
    {
     "output_type": "execute_result",
     "data": {
      "text/plain": [
       "0.13974194"
      ]
     },
     "metadata": {},
     "execution_count": 46
    }
   ],
   "source": [
    "model.wv.similarity(\"enseignant\", \"enseignante\")"
   ]
  },
  {
   "cell_type": "code",
   "execution_count": 47,
   "metadata": {},
   "outputs": [
    {
     "output_type": "execute_result",
     "data": {
      "text/plain": [
       "-0.026411645"
      ]
     },
     "metadata": {},
     "execution_count": 47
    }
   ],
   "source": [
    "model.wv.similarity(\"enseignante\", \"enseignants\")"
   ]
  },
  {
   "source": [
    "# Quels sont les mots les plus proches ?"
   ],
   "cell_type": "markdown",
   "metadata": {}
  },
  {
   "cell_type": "code",
   "execution_count": 20,
   "metadata": {},
   "outputs": [
    {
     "output_type": "execute_result",
     "data": {
      "text/plain": [
       "[('écoles_professionnelles', 0.9183971881866455),\n",
       " ('écoles_normales', 0.9001783132553101),\n",
       " ('écoles_primaires', 0.8987421989440918),\n",
       " ('écoles_communales', 0.8953583240509033),\n",
       " ('établissements', 0.8900772333145142),\n",
       " ('classes_inférieures', 0.8745321035385132),\n",
       " ('classes', 0.8712224960327148),\n",
       " ('écoles_moyennes', 0.8624921441078186),\n",
       " ('écoles_libres', 0.8570684194564819),\n",
       " ('athénées', 0.8531848192214966)]"
      ]
     },
     "metadata": {},
     "execution_count": 20
    }
   ],
   "source": [
    "model.wv.most_similar(\"écoles\", topn=10)"
   ]
  },
  {
   "cell_type": "code",
   "execution_count": 21,
   "metadata": {},
   "outputs": [
    {
     "output_type": "execute_result",
     "data": {
      "text/plain": [
       "[('école_primaire', 0.899944543838501),\n",
       " ('ecole', 0.875560998916626),\n",
       " ('école_moyenne', 0.8629707098007202),\n",
       " ('école_primaire_supérieure', 0.8599207401275635),\n",
       " ('école_normale', 0.841591477394104),\n",
       " ('athénée', 0.810289204120636),\n",
       " ('académie', 0.8086686134338379),\n",
       " ('école_professionnelle', 0.8059991598129272),\n",
       " ('école_gardienne', 0.7944542169570923),\n",
       " ('université', 0.7805697321891785)]"
      ]
     },
     "metadata": {},
     "execution_count": 21
    }
   ],
   "source": [
    "model.wv.most_similar(\"école\", topn=10)"
   ]
  },
  {
   "cell_type": "code",
   "execution_count": 23,
   "metadata": {},
   "outputs": [
    {
     "output_type": "execute_result",
     "data": {
      "text/plain": [
       "[('enseignement_professionnel', 0.8882831931114197),\n",
       " ('enseignement_primaire', 0.8710030317306519),\n",
       " ('instruction', 0.8696941137313843),\n",
       " ('enseignement_supérieur', 0.8637183904647827),\n",
       " ('enseignement_secondaire', 0.8523260951042175),\n",
       " ('état_sanitaire', 0.850180447101593),\n",
       " ('organisation', 0.8494157791137695),\n",
       " ('enseignement_moyen', 0.8461490273475647),\n",
       " ('enseignement_technique', 0.845969557762146),\n",
       " ('agrément', 0.8370379209518433)]"
      ]
     },
     "metadata": {},
     "execution_count": 23
    }
   ],
   "source": [
    "model.wv.most_similar(\"enseignement\", topn=10)"
   ]
  },
  {
   "cell_type": "code",
   "execution_count": 24,
   "metadata": {},
   "outputs": [
    {
     "output_type": "execute_result",
     "data": {
      "text/plain": [
       "[('homme', 0.9126935005187988),\n",
       " ('ouvrier', 0.9027388691902161),\n",
       " ('indigent', 0.885165810585022),\n",
       " ('individu', 0.8618616461753845),\n",
       " ('artiste', 0.857304573059082),\n",
       " ('ennemi', 0.8317898511886597),\n",
       " ('éclat', 0.8152245879173279),\n",
       " ('accueil', 0.7875678539276123),\n",
       " ('âge', 0.7846745848655701),\n",
       " ('malade', 0.7750109434127808)]"
      ]
     },
     "metadata": {},
     "execution_count": 24
    }
   ],
   "source": [
    "model.wv.most_similar(\"enfant\", topn=10)"
   ]
  },
  {
   "cell_type": "code",
   "execution_count": 25,
   "metadata": {},
   "outputs": [
    {
     "output_type": "execute_result",
     "data": {
      "text/plain": [
       "[('élèves', 0.8858519792556763),\n",
       " ('jeunes_gens', 0.8846707940101624),\n",
       " ('écoles', 0.848279595375061),\n",
       " ('malades', 0.8344818949699402),\n",
       " ('hommes', 0.8325679302215576),\n",
       " ('instituteurs', 0.8236663341522217),\n",
       " ('ouvriers', 0.8128790259361267),\n",
       " ('personnes_âgées', 0.8115429878234863),\n",
       " ('personnes', 0.8072860240936279),\n",
       " ('femmes', 0.800973653793335)]"
      ]
     },
     "metadata": {},
     "execution_count": 25
    }
   ],
   "source": [
    "model.wv.most_similar(\"enfants\", topn=10)"
   ]
  },
  {
   "cell_type": "code",
   "execution_count": null,
   "metadata": {},
   "outputs": [],
   "source": [
    "model.wv.most_similar(\"enseignant\", topn=10)"
   ]
  },
  {
   "cell_type": "code",
   "execution_count": null,
   "metadata": {},
   "outputs": [],
   "source": [
    "model.wv.most_similar(\"enseignante\", topn=10)"
   ]
  },
  {
   "cell_type": "code",
   "execution_count": null,
   "metadata": {},
   "outputs": [],
   "source": [
    "model.wv.most_similar(\"enseignants\", topn=10)"
   ]
  },
  {
   "source": [
    "# Comment obtenir une ville de France grâce à notre modèle ?"
   ],
   "cell_type": "markdown",
   "metadata": {}
  },
  {
   "cell_type": "code",
   "execution_count": 8,
   "metadata": {},
   "outputs": [
    {
     "output_type": "execute_result",
     "data": {
      "text/plain": [
       "[('gand', 0.8955814242362976)]"
      ]
     },
     "metadata": {},
     "execution_count": 8
    }
   ],
   "source": [
    "model.wv.most_similar(positive=['bruxelles', 'france'], negative=['belgique'], topn=1)"
   ]
  },
  {
   "cell_type": "code",
   "execution_count": 9,
   "metadata": {},
   "outputs": [
    {
     "output_type": "execute_result",
     "data": {
      "text/plain": [
       "[('lausanne', 0.8658036589622498)]"
      ]
     },
     "metadata": {},
     "execution_count": 9
    }
   ],
   "source": [
    "model.wv.most_similar(positive=['bruxelles', 'liege', 'france'], negative=['belgique'], topn=1)"
   ]
  },
  {
   "cell_type": "code",
   "execution_count": null,
   "metadata": {},
   "outputs": [],
   "source": []
  },
  {
   "cell_type": "code",
   "execution_count": null,
   "metadata": {},
   "outputs": [],
   "source": []
  }
 ]
}