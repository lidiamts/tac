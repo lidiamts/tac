{
 "metadata": {
  "language_info": {
   "codemirror_mode": {
    "name": "ipython",
    "version": 3
   },
   "file_extension": ".py",
   "mimetype": "text/x-python",
   "name": "python",
   "nbconvert_exporter": "python",
   "pygments_lexer": "ipython3",
   "version": "3.7.7-final"
  },
  "orig_nbformat": 2,
  "kernelspec": {
   "name": "Python 3.7.7 64-bit ('venv': venv)",
   "display_name": "Python 3.7.7 64-bit ('venv': venv)",
   "metadata": {
    "interpreter": {
     "hash": "ed2973e18a45e46195aea83f71ebc09fe8d3266afb265a31fa421a956b7d8fb0"
    }
   }
  }
 },
 "nbformat": 4,
 "nbformat_minor": 2,
 "cells": [
  {
   "source": [
    "# Sentiment analysis with Textblob-FR"
   ],
   "cell_type": "markdown",
   "metadata": {}
  },
  {
   "cell_type": "code",
   "execution_count": null,
   "metadata": {},
   "outputs": [],
   "source": [
    "import sys\n",
    "\n",
    "from textblob import Blobber\n",
    "from textblob_fr import PatternTagger, PatternAnalyzer"
   ]
  },
  {
   "source": [
    "## Fonction"
   ],
   "cell_type": "markdown",
   "metadata": {}
  },
  {
   "cell_type": "code",
   "execution_count": null,
   "metadata": {},
   "outputs": [],
   "source": [
    "tb = Blobber(pos_tagger=PatternTagger(), analyzer=PatternAnalyzer())\n",
    "\n",
    "def get_sentiment(input_text):\n",
    "    blob = tb(input_text)\n",
    "    pola, subj = blob.sentiment\n",
    "    perc = f\"{100*abs(pola):.0f}\"\n",
    "    if pola > 0:\n",
    "        sent = f\"{perc}% positive\"\n",
    "    elif pola < 0:\n",
    "        sent = f\"{perc}% negative\"\n",
    "    else:\n",
    "        sent = \"neutral\"\n",
    "    if subj > 0:\n",
    "        fact = f\"{100*subj:.0f}% subjective\"\n",
    "    else:\n",
    "        fact = \"perfectly objective\"\n",
    "    print(f\"This text is {sent} and {fact}.\")"
   ]
  },
  {
   "source": [
    "## Analyser le sentiment d'une phrase"
   ],
   "cell_type": "markdown",
   "metadata": {}
  },
  {
   "cell_type": "code",
   "execution_count": null,
   "metadata": {
    "tags": []
   },
   "outputs": [],
   "source": [
    "get_sentiment(\"Ce conseil municipal est vraiment super intéressant.\")"
   ]
  },
  {
   "cell_type": "code",
   "execution_count": null,
   "metadata": {
    "tags": []
   },
   "outputs": [],
   "source": [
    "get_sentiment(\"Cette phrase est négative et je ne suis pas content !\")"
   ]
  },
  {
   "cell_type": "code",
   "execution_count": null,
   "metadata": {},
   "outputs": [],
   "source": []
  }
 ]
}