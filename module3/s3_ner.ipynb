{
 "metadata": {
  "language_info": {
   "codemirror_mode": {
    "name": "ipython",
    "version": 3
   },
   "file_extension": ".py",
   "mimetype": "text/x-python",
   "name": "python",
   "nbconvert_exporter": "python",
   "pygments_lexer": "ipython3",
   "version": "3.7.3-final"
  },
  "orig_nbformat": 2,
  "kernelspec": {
   "name": "python3",
   "display_name": "Python 3.7.3 64-bit ('venv')",
   "metadata": {
    "interpreter": {
     "hash": "b2a5f694a66877281438acd7b293fef16a443d62b15e50432f9ed3df30ea4071"
    }
   }
  }
 },
 "nbformat": 4,
 "nbformat_minor": 2,
 "cells": [
  {
   "source": [
    "# Named-entity recognition with SpaCy"
   ],
   "cell_type": "markdown",
   "metadata": {}
  },
  {
   "cell_type": "code",
   "execution_count": 1,
   "metadata": {},
   "outputs": [],
   "source": [
    "from collections import defaultdict\n",
    "import sys\n",
    "\n",
    "import spacy\n",
    "from spacy.lang.fr.examples import sentences"
   ]
  },
  {
   "cell_type": "code",
   "execution_count": 2,
   "metadata": {},
   "outputs": [],
   "source": [
    "nlp = spacy.load('fr_core_news_sm')"
   ]
  },
  {
   "cell_type": "code",
   "execution_count": 3,
   "metadata": {},
   "outputs": [],
   "source": [
    "def search(n=1000000):\n",
    "    text = open(\"1850.txt\", encoding='latin-1').read()[:n]\n",
    "    doc = nlp(text)\n",
    "    people = defaultdict(int)\n",
    "    location = defaultdict(int)\n",
    "    organisation = defaultdict(int)\n",
    "    for ent in doc.ents:\n",
    "        if ent.label_ == \"PER\" and len(ent.text) > 3:\n",
    "            people[ent.text] += 1\n",
    "    sorted_people = sorted(people.items(), key=lambda kv: kv[1], reverse=True)\n",
    "    for person, freq in sorted_people[:10]:\n",
    "        print(f\"{person} appears {freq} times in the corpus\")\n",
    "    for ent in doc.ents:\n",
    "        if ent.label_ == \"LOC\" and len(ent.text) > 3:\n",
    "            location[ent.text] += 1\n",
    "    sorted_location = sorted(location.items(), key=lambda kv: kv[1], reverse=True)\n",
    "    for location, freq in sorted_location[:10]:\n",
    "        print(f\"{location} appears {freq} times in the corpus\")\n",
    "    for ent in doc.ents:\n",
    "        if ent.label_ == \"ORG\" and len(ent.text) > 3:\n",
    "            organisation[ent.text] += 1\n",
    "    sorted_organisation = sorted(organisation.items(), key=lambda kv: kv[1], reverse=True)\n",
    "    for organisation, freq in sorted_organisation[:10]:\n",
    "        print(f\"{organisation} appears {freq} times in the corpus\")"
   ]
  },
  {
   "cell_type": "code",
   "execution_count": 5,
   "metadata": {},
   "outputs": [
    {
     "output_type": "stream",
     "name": "stdout",
     "text": [
      "Fourniture appears 3 times in the corpus\nConstruction appears 2 times in the corpus\nApprobation appears 2 times in the corpus\nVILLE DE appears 1 times in the corpus\nAdjudications appears 1 times in the corpus\nTravaux d'achï¿½vement appears 1 times in the corpus\nCommunications de M. le Bourgmestre appears 1 times in the corpus\nIsabelle appears 1 times in the corpus\nAutorisation appears 1 times in the corpus\nRapport appears 1 times in the corpus\nBruxelles appears 3 times in the corpus\nsecrï¿½tariat appears 2 times in the corpus\nBRUXELLES appears 1 times in the corpus\n1 U K appears 1 times in the corpus\nNï¿½ 1 appears 1 times in the corpus\nEchevins appears 1 times in the corpus\nprï¿½sentï¿½es appears 1 times in the corpus\ncaserne du Petit appears 1 times in the corpus\nPanoramas appears 1 times in the corpus\nTrois-Trous appears 1 times in the corpus\nConseil appears 9 times in the corpus\nCOMMUNAL appears 1 times in the corpus\nSEMESTRE appears 1 times in the corpus\nSOMMAIRE appears 1 times in the corpus\nRanwet appears 1 times in the corpus\nSeghers appears 1 times in the corpus\nConseil des piï¿½ces suivantes appears 1 times in the corpus\nCantersteen appears 1 times in the corpus\nï¿½trangers appears 1 times in the corpus\nfï¿½t appears 1 times in the corpus\n"
     ]
    }
   ],
   "source": [
    "search(n=10000)"
   ]
  },
  {
   "cell_type": "code",
   "execution_count": null,
   "metadata": {},
   "outputs": [],
   "source": []
  }
 ]
}