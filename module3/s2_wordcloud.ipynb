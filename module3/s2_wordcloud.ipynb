{
 "metadata": {
  "language_info": {
   "codemirror_mode": {
    "name": "ipython",
    "version": 3
   },
   "file_extension": ".py",
   "mimetype": "text/x-python",
   "name": "python",
   "nbconvert_exporter": "python",
   "pygments_lexer": "ipython3",
   "version": "3.7.3-final"
  },
  "orig_nbformat": 2,
  "kernelspec": {
   "name": "Python 3.7.3 64-bit ('venv')",
   "display_name": "Python 3.7.3 64-bit ('venv')",
   "metadata": {
    "interpreter": {
     "hash": "b2a5f694a66877281438acd7b293fef16a443d62b15e50432f9ed3df30ea4071"
    }
   }
  }
 },
 "nbformat": 4,
 "nbformat_minor": 2,
 "cells": [
  {
   "source": [
    "# Building a wordcloud based on one year of bulletins"
   ],
   "cell_type": "markdown",
   "metadata": {}
  },
  {
   "source": [
    "## Créer un fichier contenant les bulletins d'une année donnée"
   ],
   "cell_type": "markdown",
   "metadata": {}
  },
  {
   "cell_type": "code",
   "execution_count": 1,
   "metadata": {},
   "outputs": [],
   "source": [
    "YEAR = 1850"
   ]
  },
  {
   "cell_type": "code",
   "execution_count": 2,
   "metadata": {},
   "outputs": [],
   "source": [
    "from os import listdir\n",
    "from os.path import isfile, join\n",
    "\n",
    "txt_path = '../data/txt'\n",
    "\n",
    "txts = [f for f in listdir(txt_path) if isfile(join(txt_path, f)) and str(YEAR) in f]"
   ]
  },
  {
   "cell_type": "code",
   "execution_count": 3,
   "metadata": {},
   "outputs": [],
   "source": [
    "content_list = []\n",
    "for txt in txts:\n",
    "    with open(f'{txt_path}/{txt}', encoding='latin-1') as f:\n",
    "        content_list.append(f.read())\n",
    "\n",
    "with open(f'{YEAR}.txt', 'w') as f:\n",
    "    f.write(' '.join(content_list))"
   ]
  },
  {
   "source": [
    "## Enlever les stopwords, les mots courts et non alphabétiques et stocker le résultat dans un nouveau fichier"
   ],
   "cell_type": "markdown",
   "metadata": {}
  },
  {
   "cell_type": "code",
   "execution_count": 4,
   "metadata": {
    "tags": []
   },
   "outputs": [],
   "source": [
    "from filtering import filtering\n",
    "\n",
    "filtering(YEAR)"
   ]
  },
  {
   "source": [
    "## Créer le word cloud"
   ],
   "cell_type": "markdown",
   "metadata": {}
  },
  {
   "cell_type": "code",
   "execution_count": 5,
   "metadata": {},
   "outputs": [
    {
     "output_type": "execute_result",
     "data": {
      "text/plain": [
       "CompletedProcess(args=['wordcloud_cli', '--text', '1850_keywords.txt', '--imagefile', '1850.png', '--width', '2000', '--height', '1000'], returncode=1, stdout=b'', stderr=b'Traceback (most recent call last):\\r\\n  File \"c:\\\\python\\\\lib\\\\runpy.py\", line 193, in _run_module_as_main\\r\\n    \"__main__\", mod_spec)\\r\\n  File \"c:\\\\python\\\\lib\\\\runpy.py\", line 85, in _run_code\\r\\n    exec(code, run_globals)\\r\\n  File \"C:\\\\Python\\\\Scripts\\\\wordcloud_cli.exe\\\\__main__.py\", line 7, in <module>\\r\\n  File \"c:\\\\python\\\\lib\\\\site-packages\\\\wordcloud\\\\__main__.py\", line 33, in main\\r\\n    wordcloud_cli_main(*wordcloud_cli_parse_args(sys.argv[1:]))\\r\\n  File \"c:\\\\python\\\\lib\\\\site-packages\\\\wordcloud\\\\wordcloud_cli.py\", line 233, in parse_args\\r\\n    text = f.read()\\r\\n  File \"c:\\\\python\\\\lib\\\\codecs.py\", line 322, in decode\\r\\n    (result, consumed) = self._buffer_decode(data, self.errors, final)\\r\\nUnicodeDecodeError: \\'utf-8\\' codec can\\'t decode byte 0xe9 in position 19: invalid continuation byte\\r\\n')"
      ]
     },
     "metadata": {},
     "execution_count": 5
    }
   ],
   "source": [
    "import subprocess\n",
    "\n",
    "command = [\n",
    "    'wordcloud_cli',\n",
    "    '--text', f'{YEAR}_keywords.txt',\n",
    "    '--imagefile', f'{YEAR}.png',\n",
    "    '--width', '2000',\n",
    "    '--height', '1000',\n",
    "]\n",
    "\n",
    "subprocess.run(command, capture_output=True)"
   ]
  },
  {
   "source": [
    "## Afficher le word cloud"
   ],
   "cell_type": "markdown",
   "metadata": {}
  },
  {
   "cell_type": "code",
   "execution_count": 6,
   "metadata": {},
   "outputs": [
    {
     "output_type": "execute_result",
     "data": {
      "image/png": "\n",
      "text/plain": [
       "<IPython.core.display.Image object>"
      ]
     },
     "metadata": {},
     "execution_count": 6
    }
   ],
   "source": [
    "from IPython.display import Image\n",
    "\n",
    "Image(filename=f'{YEAR}.png')"
   ]
  },
  {
   "cell_type": "code",
   "execution_count": null,
   "metadata": {},
   "outputs": [],
   "source": []
  }
 ]
}